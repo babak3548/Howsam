{
  "nbformat": 4,
  "nbformat_minor": 0,
  "metadata": {
    "colab": {
      "provenance": [],
      "collapsed_sections": [
        "VrFCH9hpEyip",
        "3in1e9BksgIh",
        "xv32RDGrJhqv",
        "w_a3OXnSeV0z",
        "RwaY_YcgRayy",
        "mf-QHos1nK3D",
        "RTql4Ftiunfr",
        "ZnBQs-C8PNrY",
        "lAoYRsvKN_8l",
        "WTVewgG-m7nq",
        "ih6sV9ljndzW",
        "LCzTHf8iitEt",
        "Q1Gx0mlvVJsV",
        "W0QNbC0YPCKZ",
        "ACjVH6bBpAEV",
        "G9HgVWslPGsH",
        "6kSRpX11o6Dm",
        "o_5f69nwPtY2",
        "CgpgXUYbuwHn"
      ],
      "gpuType": "T4",
      "include_colab_link": true
    },
    "kernelspec": {
      "name": "python3",
      "display_name": "Python 3"
    },
    "language_info": {
      "name": "python"
    },
    "accelerator": "GPU"
  },
  "cells": [
    {
      "cell_type": "markdown",
      "metadata": {
        "id": "view-in-github",
        "colab_type": "text"
      },
      "source": [
        "<a href=\"https://colab.research.google.com/github/babak3548/Howsam/blob/main/1_train_eval_gen_general_v1.ipynb\" target=\"_parent\"><img src=\"https://colab.research.google.com/assets/colab-badge.svg\" alt=\"Open In Colab\"/></a>"
      ]
    },
    {
      "cell_type": "markdown",
      "metadata": {
        "id": "-uXkcYhkIxS-"
      },
      "source": [
        "#  <font color='#FFE15D'><b>💎 Train, Evaluate, and Generat Functions (General) </b></font>"
      ]
    },
    {
      "cell_type": "markdown",
      "metadata": {
        "id": "VrFCH9hpEyip"
      },
      "source": [
        "# 🔴 **Environment Setup**"
      ]
    },
    {
      "cell_type": "markdown",
      "metadata": {
        "id": "3in1e9BksgIh"
      },
      "source": [
        "## 🟠 Change the font size of the output cells"
      ]
    },
    {
      "cell_type": "code",
      "execution_count": null,
      "metadata": {
        "colab": {
          "base_uri": "https://localhost:8080/"
        },
        "id": "1_nYkVog8SUR",
        "outputId": "f02c5706-3dfe-4b6d-f0e5-0ce5920432b2"
      },
      "outputs": [
        {
          "output_type": "stream",
          "name": "stdout",
          "text": [
            "Salam Howsam!\n"
          ]
        }
      ],
      "source": [
        "print('Salam Howsam!')"
      ]
    },
    {
      "cell_type": "code",
      "execution_count": null,
      "metadata": {
        "id": "BmMM0EfKsSiO"
      },
      "outputs": [],
      "source": [
        "from IPython.display import HTML\n",
        "shell = get_ipython()\n",
        "\n",
        "def adjust_font_size():\n",
        "  display(HTML('''<style>\n",
        "    body {\n",
        "      font-size: 24px;\n",
        "    }\n",
        "  '''))\n",
        "\n",
        "if adjust_font_size not in shell.events.callbacks['pre_execute']:\n",
        "  shell.events.register('pre_execute', adjust_font_size)"
      ]
    },
    {
      "cell_type": "code",
      "execution_count": null,
      "metadata": {
        "colab": {
          "base_uri": "https://localhost:8080/"
        },
        "id": "10N1yUE88XRW",
        "outputId": "cf14ac4b-4923-4aee-a1fb-8d08cbb83596"
      },
      "outputs": [
        {
          "output_type": "display_data",
          "data": {
            "text/plain": [
              "<IPython.core.display.HTML object>"
            ],
            "text/html": [
              "<style>\n",
              "    body {\n",
              "      font-size: 24px;\n",
              "    }\n",
              "  "
            ]
          },
          "metadata": {}
        },
        {
          "output_type": "stream",
          "name": "stdout",
          "text": [
            "Salam Howsam!\n"
          ]
        }
      ],
      "source": [
        "print('Salam Howsam!')"
      ]
    },
    {
      "cell_type": "markdown",
      "metadata": {
        "id": "xv32RDGrJhqv"
      },
      "source": [
        "## 🟠 `pip`"
      ]
    },
    {
      "cell_type": "code",
      "source": [
        "# !pip install -q datasets torchmetrics"
      ],
      "metadata": {
        "colab": {
          "base_uri": "https://localhost:8080/"
        },
        "id": "cnvXOLwGJkHV",
        "outputId": "1f7de8c6-a8fe-4f2b-d924-dbee884d6bd1"
      },
      "execution_count": null,
      "outputs": [
        {
          "output_type": "display_data",
          "data": {
            "text/plain": [
              "<IPython.core.display.HTML object>"
            ],
            "text/html": [
              "<style>\n",
              "    body {\n",
              "      font-size: 24px;\n",
              "    }\n",
              "  "
            ]
          },
          "metadata": {}
        }
      ]
    },
    {
      "cell_type": "markdown",
      "metadata": {
        "id": "w_a3OXnSeV0z"
      },
      "source": [
        "# 🔴 **Import**"
      ]
    },
    {
      "cell_type": "code",
      "execution_count": null,
      "metadata": {
        "id": "vhlVJEkJeTsV",
        "colab": {
          "base_uri": "https://localhost:8080/",
          "height": 17
        },
        "outputId": "f432d61e-2a55-4f70-830b-c4b2e41c214b"
      },
      "outputs": [
        {
          "output_type": "display_data",
          "data": {
            "text/plain": [
              "<IPython.core.display.HTML object>"
            ],
            "text/html": [
              "<style>\n",
              "    body {\n",
              "      font-size: 24px;\n",
              "    }\n",
              "  "
            ]
          },
          "metadata": {}
        }
      ],
      "source": [
        "import time\n",
        "import math\n",
        "import random\n",
        "from tqdm import tqdm\n",
        "from dataclasses import dataclass\n",
        "\n",
        "import numpy as np\n",
        "import matplotlib.pyplot as plt\n",
        "import seaborn as sns\n",
        "sns.set()\n",
        "\n",
        "from datasets import load_dataset\n",
        "from tokenizers import Tokenizer\n",
        "\n",
        "import torch\n",
        "from torch.utils.data import Dataset, DataLoader\n",
        "from torch import nn\n",
        "from torch.nn import functional as F\n",
        "\n",
        "from torchmetrics.aggregation import MeanMetric"
      ]
    },
    {
      "cell_type": "markdown",
      "metadata": {
        "id": "RwaY_YcgRayy"
      },
      "source": [
        "# 🔴 **Utils**"
      ]
    },
    {
      "cell_type": "code",
      "source": [
        "def prepare_data(tokens, seq_len):\n",
        "    # Trim tokens so that total length is divisible by seq_len\n",
        "    n_tokens = (tokens.shape[0] // seq_len) * seq_len\n",
        "    tokens = tokens[:n_tokens]\n",
        "    # Reshape to 2D tensor\n",
        "    return tokens.view(-1, seq_len)"
      ],
      "metadata": {
        "colab": {
          "base_uri": "https://localhost:8080/",
          "height": 17
        },
        "id": "VRLHzZMYKmLL",
        "outputId": "10c8ac29-87ca-45fa-c4cd-e3141a5600fd"
      },
      "execution_count": null,
      "outputs": [
        {
          "output_type": "display_data",
          "data": {
            "text/plain": [
              "<IPython.core.display.HTML object>"
            ],
            "text/html": [
              "<style>\n",
              "    body {\n",
              "      font-size: 24px;\n",
              "    }\n",
              "  "
            ]
          },
          "metadata": {}
        }
      ]
    },
    {
      "cell_type": "code",
      "execution_count": null,
      "metadata": {
        "id": "PpKbTUEIRayz",
        "colab": {
          "base_uri": "https://localhost:8080/",
          "height": 17
        },
        "outputId": "66bfa5a3-8dc3-4acb-cc81-059818b342f7"
      },
      "outputs": [
        {
          "output_type": "display_data",
          "data": {
            "text/plain": [
              "<IPython.core.display.HTML object>"
            ],
            "text/html": [
              "<style>\n",
              "    body {\n",
              "      font-size: 24px;\n",
              "    }\n",
              "  "
            ]
          },
          "metadata": {}
        }
      ],
      "source": [
        "def num_trainable_params(model):\n",
        "  nums = sum(p.numel() for p in model.parameters() if p.requires_grad)/1e6\n",
        "  return nums"
      ]
    },
    {
      "cell_type": "code",
      "source": [
        "# Benchmarking function\n",
        "def calculate_time(model, x, num_runs=10):\n",
        "    torch.cuda.synchronize()\n",
        "    start = time.time()\n",
        "    for _ in range(num_runs):\n",
        "        model(x)\n",
        "    torch.cuda.synchronize()\n",
        "    return (time.time() - start) / num_runs"
      ],
      "metadata": {
        "id": "G6LDfZvmOLcI",
        "colab": {
          "base_uri": "https://localhost:8080/",
          "height": 17
        },
        "outputId": "8a3ea7ca-29d5-41c7-acf2-bd55f109e0b9"
      },
      "execution_count": null,
      "outputs": [
        {
          "output_type": "display_data",
          "data": {
            "text/plain": [
              "<IPython.core.display.HTML object>"
            ],
            "text/html": [
              "<style>\n",
              "    body {\n",
              "      font-size: 24px;\n",
              "    }\n",
              "  "
            ]
          },
          "metadata": {}
        }
      ]
    },
    {
      "cell_type": "markdown",
      "metadata": {
        "id": "mf-QHos1nK3D"
      },
      "source": [
        "# 🔴 **Init**"
      ]
    },
    {
      "cell_type": "code",
      "execution_count": null,
      "metadata": {
        "colab": {
          "base_uri": "https://localhost:8080/",
          "height": 48
        },
        "id": "2Xb8YR2VdmXp",
        "outputId": "b01e9187-339e-4fe3-ca8b-e1f1d4836fc0"
      },
      "outputs": [
        {
          "output_type": "display_data",
          "data": {
            "text/plain": [
              "<IPython.core.display.HTML object>"
            ],
            "text/html": [
              "<style>\n",
              "    body {\n",
              "      font-size: 24px;\n",
              "    }\n",
              "  "
            ]
          },
          "metadata": {}
        },
        {
          "output_type": "execute_result",
          "data": {
            "text/plain": [
              "'cuda'"
            ]
          },
          "metadata": {},
          "execution_count": 9
        }
      ],
      "source": [
        "device = 'cuda' if torch.cuda.is_available() else 'cpu'\n",
        "device"
      ]
    },
    {
      "cell_type": "markdown",
      "metadata": {
        "id": "RTql4Ftiunfr"
      },
      "source": [
        "# 🔴 **Dataset**"
      ]
    },
    {
      "cell_type": "code",
      "source": [
        "dataset = load_dataset(\"roneneldan/TinyStories\")\n",
        "dataset"
      ],
      "metadata": {
        "colab": {
          "base_uri": "https://localhost:8080/",
          "height": 325
        },
        "id": "am_JqZ3XKuxs",
        "outputId": "0d7b4a52-c0db-4f46-a68e-d83c8d1d679d"
      },
      "execution_count": null,
      "outputs": [
        {
          "output_type": "display_data",
          "data": {
            "text/plain": [
              "<IPython.core.display.HTML object>"
            ],
            "text/html": [
              "<style>\n",
              "    body {\n",
              "      font-size: 24px;\n",
              "    }\n",
              "  "
            ]
          },
          "metadata": {}
        },
        {
          "output_type": "execute_result",
          "data": {
            "text/plain": [
              "DatasetDict({\n",
              "    train: Dataset({\n",
              "        features: ['text'],\n",
              "        num_rows: 2119719\n",
              "    })\n",
              "    validation: Dataset({\n",
              "        features: ['text'],\n",
              "        num_rows: 21990\n",
              "    })\n",
              "})"
            ]
          },
          "metadata": {},
          "execution_count": 10
        }
      ]
    },
    {
      "cell_type": "code",
      "source": [
        "tokenizer = Tokenizer.from_file(\"bpe-tokenizer_tinystories.json\")\n",
        "tokenizer"
      ],
      "metadata": {
        "colab": {
          "base_uri": "https://localhost:8080/",
          "height": 48
        },
        "id": "ZAkt3gbSKxoS",
        "outputId": "06bbb223-e1f2-4bdd-8902-314ecea8c4b7"
      },
      "execution_count": null,
      "outputs": [
        {
          "output_type": "display_data",
          "data": {
            "text/plain": [
              "<IPython.core.display.HTML object>"
            ],
            "text/html": [
              "<style>\n",
              "    body {\n",
              "      font-size: 24px;\n",
              "    }\n",
              "  "
            ]
          },
          "metadata": {}
        },
        {
          "output_type": "execute_result",
          "data": {
            "text/plain": [
              "<tokenizers.Tokenizer at 0x15d11145c30>"
            ]
          },
          "metadata": {},
          "execution_count": 11
        }
      ]
    },
    {
      "cell_type": "code",
      "source": [
        "# Load tokens from pytorch file\n",
        "train_token_ids = torch.load('tokenized-train-samples_vocab-10k.pt')\n",
        "valid_token_ids = torch.load('tokenized-valid-samples_vocab-10k.pt')\n",
        "\n",
        "print(\"📊 Number of Tokens\")\n",
        "print(f\"🔹 Train: {len(train_token_ids):,} tokens\")\n",
        "print(f\"🔹 Valid: {len(valid_token_ids):,} tokens\")"
      ],
      "metadata": {
        "colab": {
          "base_uri": "https://localhost:8080/",
          "height": 109
        },
        "id": "yYC8mmvaKzds",
        "outputId": "3f8f15ab-1226-4566-90b2-a7f09d9d1095"
      },
      "execution_count": null,
      "outputs": [
        {
          "output_type": "display_data",
          "data": {
            "text/plain": [
              "<IPython.core.display.HTML object>"
            ],
            "text/html": [
              "<style>\n",
              "    body {\n",
              "      font-size: 24px;\n",
              "    }\n",
              "  "
            ]
          },
          "metadata": {}
        },
        {
          "output_type": "stream",
          "name": "stdout",
          "text": [
            "📊 Number of Tokens\n",
            "🔹 Train: 464,965,814 tokens\n",
            "🔹 Valid: 4,673,588 tokens\n"
          ]
        }
      ]
    },
    {
      "cell_type": "code",
      "source": [
        "class TinyStoriesDataset(Dataset):\n",
        "\n",
        "    def __init__(self, data, seq_len):\n",
        "        self.seq_len = seq_len\n",
        "        self.data = prepare_data(data, seq_len+1)\n",
        "\n",
        "    def __len__(self):\n",
        "        return self.data.shape[0]\n",
        "\n",
        "    def __getitem__(self, idx):\n",
        "        sample = self.data[idx]\n",
        "        return sample.long()#[:-1], sample[1:]"
      ],
      "metadata": {
        "colab": {
          "base_uri": "https://localhost:8080/",
          "height": 17
        },
        "id": "Qoi9WubZK1P2",
        "outputId": "e401f8c3-4433-4d19-ba70-09a08b8b3563"
      },
      "execution_count": null,
      "outputs": [
        {
          "output_type": "display_data",
          "data": {
            "text/plain": [
              "<IPython.core.display.HTML object>"
            ],
            "text/html": [
              "<style>\n",
              "    body {\n",
              "      font-size: 24px;\n",
              "    }\n",
              "  "
            ]
          },
          "metadata": {}
        }
      ]
    },
    {
      "cell_type": "markdown",
      "source": [
        "# 🔴 **Model**"
      ],
      "metadata": {
        "id": "ZnBQs-C8PNrY"
      }
    },
    {
      "cell_type": "markdown",
      "source": [
        "## 🟠 Multi Head Attention"
      ],
      "metadata": {
        "id": "lAoYRsvKN_8l"
      }
    },
    {
      "cell_type": "code",
      "source": [
        "class MultiHeadAttention(nn.Module):\n",
        "\n",
        "    def __init__(self, config):\n",
        "        super().__init__()\n",
        "        self.n_embd = config.n_embd\n",
        "        self.n_head = config.n_head\n",
        "        self.head_size = self.n_embd // self.n_head\n",
        "\n",
        "        self.qkv_proj = nn.Linear(self.n_embd, 3*self.n_embd, bias=False)\n",
        "        self.c_proj = nn.Linear(self.n_embd, self.n_embd, bias=False)\n",
        "        self.c_proj.residual = True\n",
        "\n",
        "    def forward(self, x):\n",
        "        B, T, C = x.shape\n",
        "        # QKV linear\n",
        "        q, k, v = self.qkv_proj(x).view(B, T, 3*self.n_head, self.head_size).transpose(1, 2).chunk(3, dim=-3)\n",
        "        # Scaled Dot Product Attention using pytorch\n",
        "        y = F.scaled_dot_product_attention(q, k, v, is_causal=True)\n",
        "        # Reshape and final projection\n",
        "        y = y.transpose(1, 2).contiguous().view(B, T, C)\n",
        "        y = self.c_proj(y)\n",
        "        return y"
      ],
      "metadata": {
        "id": "gnxYy1oIQcY-",
        "colab": {
          "base_uri": "https://localhost:8080/"
        },
        "outputId": "08943fdb-637b-4f46-9ee7-2ff0aaed5de2"
      },
      "execution_count": null,
      "outputs": [
        {
          "output_type": "display_data",
          "data": {
            "text/plain": [
              "<IPython.core.display.HTML object>"
            ],
            "text/html": [
              "<style>\n",
              "    body {\n",
              "      font-size: 24px;\n",
              "    }\n",
              "  "
            ]
          },
          "metadata": {}
        }
      ]
    },
    {
      "cell_type": "markdown",
      "source": [
        "## 🟠 Feed Forward (MLP)"
      ],
      "metadata": {
        "id": "WTVewgG-m7nq"
      }
    },
    {
      "cell_type": "code",
      "source": [
        "class FeedForward(nn.Module):\n",
        "\n",
        "    def __init__(self, config):\n",
        "        super().__init__()\n",
        "        self.n_embd = config.n_embd\n",
        "        self.f_expnd = config.f_expnd\n",
        "\n",
        "        self.up_proj = nn.Linear(self.n_embd, int(self.f_expnd*self.n_embd), bias=False)\n",
        "        self.down_proj = nn.Linear(int(self.f_expnd*self.n_embd), self.n_embd, bias=False)\n",
        "        self.down_proj.residual = True\n",
        "\n",
        "    def forward(self, x):\n",
        "        return self.down_proj(F.gelu(self.up_proj(x)))"
      ],
      "metadata": {
        "id": "BTcx4J5Lm66z",
        "colab": {
          "base_uri": "https://localhost:8080/"
        },
        "outputId": "1913f8f8-64b0-4c63-a56c-08ab06ededb9"
      },
      "execution_count": null,
      "outputs": [
        {
          "output_type": "display_data",
          "data": {
            "text/plain": [
              "<IPython.core.display.HTML object>"
            ],
            "text/html": [
              "<style>\n",
              "    body {\n",
              "      font-size: 24px;\n",
              "    }\n",
              "  "
            ]
          },
          "metadata": {}
        }
      ]
    },
    {
      "cell_type": "markdown",
      "source": [
        "## 🟠 Decoder Block"
      ],
      "metadata": {
        "id": "ih6sV9ljndzW"
      }
    },
    {
      "cell_type": "code",
      "source": [
        "class DecoderBlock(nn.Module):\n",
        "\n",
        "    def __init__(self, config):\n",
        "        super().__init__()\n",
        "        self.n_embd = config.n_embd\n",
        "        # Multi Head Attention\n",
        "        self.ln1 = nn.LayerNorm(config.n_embd)\n",
        "        self.mha = MultiHeadAttention(config)\n",
        "        # Feed Forward Neural Network\n",
        "        self.ln2 = nn.LayerNorm(config.n_embd)\n",
        "        self.mlp = FeedForward(config)\n",
        "\n",
        "    def forward(self, x):\n",
        "        x = x + self.mha(self.ln1(x))\n",
        "        x = x + self.mlp(self.ln2(x))\n",
        "        return x"
      ],
      "metadata": {
        "id": "Gq1kw31av9DR",
        "colab": {
          "base_uri": "https://localhost:8080/"
        },
        "outputId": "91d83027-7ac9-4231-8d6c-a8d86e2b3daf"
      },
      "execution_count": null,
      "outputs": [
        {
          "output_type": "display_data",
          "data": {
            "text/plain": [
              "<IPython.core.display.HTML object>"
            ],
            "text/html": [
              "<style>\n",
              "    body {\n",
              "      font-size: 24px;\n",
              "    }\n",
              "  "
            ]
          },
          "metadata": {}
        }
      ]
    },
    {
      "cell_type": "markdown",
      "source": [
        "## 🟠 GPT"
      ],
      "metadata": {
        "id": "LCzTHf8iitEt"
      }
    },
    {
      "cell_type": "code",
      "source": [
        "class GPT(nn.Module):\n",
        "\n",
        "    def __init__(self, config):\n",
        "        super().__init__()\n",
        "        self.config = config\n",
        "        self.wte = nn.Embedding(config.vocab_size, config.n_embd) # Token embedding\n",
        "        self.wpe = nn.Embedding(config.max_seq_len, config.n_embd) # Position embedding\n",
        "        self.decoders = nn.ModuleList([DecoderBlock(config) for _ in range(config.n_layer)]) # Decoders\n",
        "        self.lnf = nn.LayerNorm(config.n_embd)\n",
        "        self.lm_head = nn.Linear(config.n_embd, config.vocab_size, bias=False) # Classifier\n",
        "        self.lm_head.weight = self.wte.weight # Weight tying\n",
        "\n",
        "        self.apply(self._init_weights)\n",
        "\n",
        "    def _init_weights(self, module):\n",
        "        std = 0.02\n",
        "        if isinstance(module, nn.Linear):\n",
        "            if hasattr(module, 'residual'):\n",
        "                std *= (2*self.config.n_layer)**-0.5\n",
        "            nn.init.normal_(module.weight, mean=0.0, std=std)\n",
        "            if module.bias is not None:\n",
        "                nn.init.zeros_(module.bias)\n",
        "        elif isinstance(module, nn.Embedding):\n",
        "            nn.init.normal_(module.weight, mean=0.0, std=std)\n",
        "\n",
        "    def forward(self, idx):\n",
        "        B, T = idx.shape\n",
        "        # Token Embedding + Position Embedding\n",
        "        x = self.wte(idx) + self.wpe(torch.arange(T, device=device))\n",
        "        # Decoders\n",
        "        for decoder in self.decoders:\n",
        "            x = decoder(x)\n",
        "        # Classifier\n",
        "        x = self.lnf(x)\n",
        "        logits = self.lm_head(x)\n",
        "        return logits"
      ],
      "metadata": {
        "id": "Lmrc034JwvSS",
        "colab": {
          "base_uri": "https://localhost:8080/",
          "height": 17
        },
        "outputId": "fa55de8f-c918-4819-afe9-bcfa4a24e793"
      },
      "execution_count": null,
      "outputs": [
        {
          "output_type": "display_data",
          "data": {
            "text/plain": [
              "<IPython.core.display.HTML object>"
            ],
            "text/html": [
              "<style>\n",
              "    body {\n",
              "      font-size: 24px;\n",
              "    }\n",
              "  "
            ]
          },
          "metadata": {}
        }
      ]
    },
    {
      "cell_type": "markdown",
      "source": [
        "## 🟠 Config"
      ],
      "metadata": {
        "id": "Q1Gx0mlvVJsV"
      }
    },
    {
      "cell_type": "code",
      "source": [
        "@dataclass\n",
        "class GPTConfig:\n",
        "    vocab_size: int = 50257 # number of tokens\n",
        "    max_seq_len: int = 1024 # max sequence length\n",
        "    n_layer: int = 12 # number of layers\n",
        "    n_head: int = 12 # number of heads\n",
        "    n_embd: int = 768 # embedding dimension\n",
        "    f_expnd: int = 4 # expansion factor in mlp"
      ],
      "metadata": {
        "colab": {
          "base_uri": "https://localhost:8080/",
          "height": 17
        },
        "id": "PTeKlMqVP3qp",
        "outputId": "a884f0c3-759e-4b3f-8e57-0862c011ee43"
      },
      "execution_count": null,
      "outputs": [
        {
          "output_type": "display_data",
          "data": {
            "text/plain": [
              "<IPython.core.display.HTML object>"
            ],
            "text/html": [
              "<style>\n",
              "    body {\n",
              "      font-size: 24px;\n",
              "    }\n",
              "  "
            ]
          },
          "metadata": {}
        }
      ]
    },
    {
      "cell_type": "markdown",
      "metadata": {
        "id": "W0QNbC0YPCKZ"
      },
      "source": [
        "# 🔴 **Functions ⚙️**"
      ]
    },
    {
      "cell_type": "markdown",
      "source": [
        "## 🟠 Train ➰"
      ],
      "metadata": {
        "id": "ACjVH6bBpAEV"
      }
    },
    {
      "cell_type": "code",
      "execution_count": null,
      "metadata": {
        "id": "WniOAgk0QyRI",
        "colab": {
          "base_uri": "https://localhost:8080/",
          "height": 17
        },
        "outputId": "bffc4f9f-b6ee-408d-94d6-e159117d096e"
      },
      "outputs": [
        {
          "output_type": "display_data",
          "data": {
            "text/plain": [
              "<IPython.core.display.HTML object>"
            ],
            "text/html": [
              "<style>\n",
              "    body {\n",
              "      font-size: 24px;\n",
              "    }\n",
              "  "
            ]
          },
          "metadata": {}
        }
      ],
      "source": [
        "def train_one_epoch(model, train_loader, optimizer, epoch=None):\n",
        "    model.train()\n",
        "    loss_train = MeanMetric()\n",
        "\n",
        "    with tqdm(train_loader, unit='batch') as tepoch:\n",
        "        for inputs in tepoch:\n",
        "            if epoch is not None:\n",
        "                tepoch.set_description(f'Epoch {epoch}')\n",
        "\n",
        "            inputs = inputs.to(device)\n",
        "            logits = model(inputs[:, :-1])\n",
        "            loss = F.cross_entropy(logits.reshape(-1, logits.shape[-1]), inputs[:, 1:].flatten())\n",
        "            loss.backward()\n",
        "\n",
        "            nn.utils.clip_grad.clip_grad_norm_(model.parameters(), max_norm=1.)\n",
        "\n",
        "            optimizer.step()\n",
        "            optimizer.zero_grad()\n",
        "\n",
        "            loss_train.update(loss.item(), inputs.shape[0])\n",
        "\n",
        "            tepoch.set_postfix(loss=loss_train.compute().item())\n",
        "\n",
        "    return loss_train.compute().item()"
      ]
    },
    {
      "cell_type": "markdown",
      "metadata": {
        "id": "G9HgVWslPGsH"
      },
      "source": [
        "## 🟠 Evaluate"
      ]
    },
    {
      "cell_type": "code",
      "execution_count": null,
      "metadata": {
        "id": "uV0_67_ZQ0xf",
        "colab": {
          "base_uri": "https://localhost:8080/",
          "height": 17
        },
        "outputId": "0463ccac-afd0-4c09-a2f0-eb1a6a080e70"
      },
      "outputs": [
        {
          "output_type": "display_data",
          "data": {
            "text/plain": [
              "<IPython.core.display.HTML object>"
            ],
            "text/html": [
              "<style>\n",
              "    body {\n",
              "      font-size: 24px;\n",
              "    }\n",
              "  "
            ]
          },
          "metadata": {}
        }
      ],
      "source": [
        "def evaluate(model, valid_loader):\n",
        "    model.eval()\n",
        "    loss_eval = MeanMetric()\n",
        "\n",
        "    with torch.inference_mode():\n",
        "        for inputs in valid_loader:\n",
        "            inputs = inputs.to(device)\n",
        "\n",
        "            logits = model(inputs[:, :-1])\n",
        "\n",
        "            loss = F.cross_entropy(logits.reshape(-1, logits.shape[-1]), inputs[:, 1:].flatten())\n",
        "            loss_eval.update(loss.item(), inputs.shape[0])\n",
        "\n",
        "    return loss_eval.compute().item()"
      ]
    },
    {
      "cell_type": "markdown",
      "metadata": {
        "id": "6kSRpX11o6Dm"
      },
      "source": [
        "## 🟠 Generate"
      ]
    },
    {
      "cell_type": "code",
      "source": [
        "def generate_text(\n",
        "        model, tokenizer, xgen, max_length, temperature=1.0, top_k=50, num_return_sequences=1, device='cpu', seed=42):\n",
        "    \"\"\"\n",
        "    Generates text using top-k sampling.\n",
        "\n",
        "    Args:\n",
        "        model: The language model.\n",
        "        tokenizer: Tokenizer for decoding generated text.\n",
        "        xgen: Initial token sequence (Tensor of shape (B, T)).\n",
        "        max_length: Maximum length of generated text.\n",
        "        temperature: Sampling temperature.\n",
        "        top_k: Number of top candidates to sample from.\n",
        "        num_return_sequences: Number of generated sequences.\n",
        "        device: Device to run the model on.\n",
        "        seed: Random seed for reproducibility.\n",
        "        epoch: Current epoch number (for logging).\n",
        "    \"\"\"\n",
        "    # Initialize a random number generator for sampling\n",
        "    sample_rng = torch.Generator(device=device)\n",
        "    sample_rng.manual_seed(seed)\n",
        "\n",
        "    generated_texts = []\n",
        "\n",
        "    with torch.no_grad():  # Move outside the loop to optimize performance\n",
        "        while xgen.size(1) < max_length:\n",
        "            logits = model(xgen)  # (B, T, vocab_size)\n",
        "            logits = logits[:, -1, :]  # Take the logits at the last position (B, vocab_size)\n",
        "            probs = F.softmax(logits / temperature, dim=-1)  # Get the probabilities\n",
        "\n",
        "            # Perform top-k sampling (default k=50 in Hugging Face pipeline)\n",
        "            topk_probs, topk_indices = torch.topk(probs, top_k, dim=-1)  # (B, top_k)\n",
        "\n",
        "            # Select a token from the top-k probabilities\n",
        "            # Note: multinomial does not require the input to sum to 1\n",
        "            ix = torch.multinomial(topk_probs, 1, generator=sample_rng)  # (B, 1)\n",
        "\n",
        "            # Gather the corresponding indices from the top-k indices\n",
        "            xcol = torch.gather(topk_indices, -1, ix)  # (B, 1)\n",
        "\n",
        "            # Append the selected token to the sequence\n",
        "            xgen = torch.cat((xgen, xcol), dim=1)\n",
        "\n",
        "    # Decode and return generated sequences\n",
        "    for i in range(num_return_sequences):\n",
        "        tokens = xgen[i, :max_length].tolist()\n",
        "        decoded_text = tokenizer.decode(tokens)\n",
        "        generated_texts.append(decoded_text)\n",
        "\n",
        "    return generated_texts  # Return generated sequences as a list"
      ],
      "metadata": {
        "id": "G3lqeoYfAVWe",
        "colab": {
          "base_uri": "https://localhost:8080/",
          "height": 17
        },
        "outputId": "7c3e2063-e6e2-477a-e8a8-e5794ff87a63"
      },
      "execution_count": null,
      "outputs": [
        {
          "output_type": "display_data",
          "data": {
            "text/plain": [
              "<IPython.core.display.HTML object>"
            ],
            "text/html": [
              "<style>\n",
              "    body {\n",
              "      font-size: 24px;\n",
              "    }\n",
              "  "
            ]
          },
          "metadata": {}
        }
      ]
    },
    {
      "cell_type": "markdown",
      "metadata": {
        "id": "o_5f69nwPtY2"
      },
      "source": [
        "# 🔴 **Training Process 〽️**"
      ]
    },
    {
      "cell_type": "code",
      "source": [
        "torch.manual_seed(1337)\n",
        "\n",
        "seq_len = 128\n",
        "train_set = TinyStoriesDataset(train_token_ids, seq_len)\n",
        "valid_set = TinyStoriesDataset(valid_token_ids, seq_len)\n",
        "\n",
        "batch_size = 192\n",
        "train_loader = DataLoader(train_set, batch_size=batch_size, shuffle=True, pin_memory=True)#, num_workers=4)\n",
        "valid_loader = DataLoader(valid_set, batch_size=batch_size, shuffle=False, pin_memory=True)#, num_workers=4)\n",
        "\n",
        "print(f\"📊 Number of Batches\")\n",
        "print(f\"🔹 Train: {len(train_loader):,} batches\")\n",
        "print(f\"🔹 Valid: {len(valid_loader):,} batches\")"
      ],
      "metadata": {
        "colab": {
          "base_uri": "https://localhost:8080/",
          "height": 109
        },
        "id": "9FQ8l4rrK2nW",
        "outputId": "e98e8390-16b5-492d-c4b3-09adf7d05910"
      },
      "execution_count": null,
      "outputs": [
        {
          "output_type": "display_data",
          "data": {
            "text/plain": [
              "<IPython.core.display.HTML object>"
            ],
            "text/html": [
              "<style>\n",
              "    body {\n",
              "      font-size: 24px;\n",
              "    }\n",
              "  "
            ]
          },
          "metadata": {}
        },
        {
          "output_type": "stream",
          "name": "stdout",
          "text": [
            "📊 Number of Batches\n",
            "🔹 Train: 18,773 batches\n",
            "🔹 Valid: 189 batches\n"
          ]
        }
      ]
    },
    {
      "cell_type": "code",
      "source": [
        "model = GPT(\n",
        "    GPTConfig(\n",
        "        max_seq_len=256,\n",
        "        vocab_size=10_000,\n",
        "        n_embd=128,\n",
        "        n_layer=8,\n",
        "        n_head=16\n",
        "        )\n",
        "    ).to(device)\n",
        "\n",
        "print(model)\n",
        "num_trainable_params(model)"
      ],
      "metadata": {
        "colab": {
          "base_uri": "https://localhost:8080/",
          "height": 663
        },
        "id": "i7zJv8yJEBLl",
        "outputId": "2a180137-9279-4087-dec3-f0c2934ffec7",
        "collapsed": true
      },
      "execution_count": null,
      "outputs": [
        {
          "output_type": "display_data",
          "data": {
            "text/plain": [
              "<IPython.core.display.HTML object>"
            ],
            "text/html": [
              "<style>\n",
              "    body {\n",
              "      font-size: 24px;\n",
              "    }\n",
              "  "
            ]
          },
          "metadata": {}
        },
        {
          "output_type": "stream",
          "name": "stdout",
          "text": [
            "GPT(\n",
            "  (wte): Embedding(10000, 128)\n",
            "  (wpe): Embedding(256, 128)\n",
            "  (decoders): ModuleList(\n",
            "    (0-7): 8 x DecoderBlock(\n",
            "      (ln1): LayerNorm((128,), eps=1e-05, elementwise_affine=True)\n",
            "      (mha): MultiHeadAttention(\n",
            "        (qkv_proj): Linear(in_features=128, out_features=384, bias=False)\n",
            "        (c_proj): Linear(in_features=128, out_features=128, bias=False)\n",
            "      )\n",
            "      (ln2): LayerNorm((128,), eps=1e-05, elementwise_affine=True)\n",
            "      (mlp): FeedForward(\n",
            "        (up_proj): Linear(in_features=128, out_features=512, bias=False)\n",
            "        (down_proj): Linear(in_features=512, out_features=128, bias=False)\n",
            "      )\n",
            "    )\n",
            "  )\n",
            "  (lnf): LayerNorm((128,), eps=1e-05, elementwise_affine=True)\n",
            "  (lm_head): Linear(in_features=128, out_features=10000, bias=False)\n",
            ")\n"
          ]
        },
        {
          "output_type": "execute_result",
          "data": {
            "text/plain": [
              "2.889984"
            ]
          },
          "metadata": {},
          "execution_count": 23
        }
      ]
    },
    {
      "cell_type": "code",
      "execution_count": null,
      "metadata": {
        "id": "ketNqGoLsK2U",
        "colab": {
          "base_uri": "https://localhost:8080/",
          "height": 17
        },
        "outputId": "a10a59cd-01ed-47da-e661-1d335aecfe73",
        "collapsed": true
      },
      "outputs": [
        {
          "output_type": "display_data",
          "data": {
            "text/plain": [
              "<IPython.core.display.HTML object>"
            ],
            "text/html": [
              "<style>\n",
              "    body {\n",
              "      font-size: 24px;\n",
              "    }\n",
              "  "
            ]
          },
          "metadata": {}
        }
      ],
      "source": [
        "learning_rate = 6e-4\n",
        "weight_decay = 0.1\n",
        "use_fused = True\n",
        "\n",
        "optimizer = torch.optim.AdamW(\n",
        "    model.parameters(),\n",
        "    lr=learning_rate,\n",
        "    betas=(0.9, 0.95),\n",
        "    weight_decay=weight_decay,\n",
        "    fused=use_fused\n",
        "    )"
      ]
    },
    {
      "cell_type": "code",
      "execution_count": null,
      "metadata": {
        "id": "zqxSVVB7JWpW",
        "colab": {
          "base_uri": "https://localhost:8080/",
          "height": 17
        },
        "outputId": "54f2199e-5806-47d9-941e-bad20f38537c"
      },
      "outputs": [
        {
          "output_type": "display_data",
          "data": {
            "text/plain": [
              "<IPython.core.display.HTML object>"
            ],
            "text/html": [
              "<style>\n",
              "    body {\n",
              "      font-size: 24px;\n",
              "    }\n",
              "  "
            ]
          },
          "metadata": {}
        }
      ],
      "source": [
        "loss_train_hist = []\n",
        "loss_valid_hist = []\n",
        "\n",
        "metric_train_hist = []\n",
        "metric_valid_hist = []\n",
        "\n",
        "best_loss_valid = torch.inf\n",
        "epoch_counter = 0"
      ]
    },
    {
      "cell_type": "code",
      "source": [
        "prompts = [\n",
        "    'In last night',\n",
        "    'Once upon',\n",
        "    'Once upon a time',\n",
        "    'One day, a little boy named TimTommy was a smart 3 year old, much smarter']\n",
        "\n",
        "num_return_sequences = 3\n",
        "sent_test = [\n",
        "    torch.tensor(tokens.ids, dtype=torch.long).unsqueeze(0).repeat(num_return_sequences, 1).to(device)\n",
        "    for tokens in tokenizer.encode_batch(prompts)]\n",
        "sent_test\n",
        "\n",
        "temperature = 0.9\n",
        "max_length = 32\n",
        "top_k = 50"
      ],
      "metadata": {
        "id": "yDapu_YBmOTv",
        "colab": {
          "base_uri": "https://localhost:8080/",
          "height": 17
        },
        "outputId": "6a789195-b835-4ac7-ed85-54ad1b1a3fcc"
      },
      "execution_count": null,
      "outputs": [
        {
          "output_type": "display_data",
          "data": {
            "text/plain": [
              "<IPython.core.display.HTML object>"
            ],
            "text/html": [
              "<style>\n",
              "    body {\n",
              "      font-size: 24px;\n",
              "    }\n",
              "  "
            ]
          },
          "metadata": {}
        }
      ]
    },
    {
      "cell_type": "code",
      "execution_count": null,
      "metadata": {
        "colab": {
          "base_uri": "https://localhost:8080/",
          "height": 1000
        },
        "id": "eVqS9SEPJWpW",
        "outputId": "c4fde068-0e55-45e0-8957-b263fe9ab97d"
      },
      "outputs": [
        {
          "output_type": "display_data",
          "data": {
            "text/plain": [
              "<IPython.core.display.HTML object>"
            ],
            "text/html": [
              "<style>\n",
              "    body {\n",
              "      font-size: 24px;\n",
              "    }\n",
              "  "
            ]
          },
          "metadata": {}
        },
        {
          "output_type": "stream",
          "name": "stderr",
          "text": [
            "Epoch 0:   0%|                                                                            | 0/18773 [00:00<?, ?batch/s]C:\\Users\\Howsam\\AppData\\Local\\Temp\\ipykernel_12048\\2308121339.py:18: UserWarning: 1Torch was not compiled with flash attention. (Triggered internally at C:\\cb\\pytorch_1000000000000\\work\\aten\\src\\ATen\\native\\transformers\\cuda\\sdp_utils.cpp:455.)\n",
            "  y = F.scaled_dot_product_attention(q, k, v, is_causal=True)\n",
            "Epoch 0: 100%|█████████████████████████████████████████████████████| 18773/18773 [50:12<00:00,  6.23batch/s, loss=2.17]\n"
          ]
        },
        {
          "output_type": "stream",
          "name": "stdout",
          "text": [
            "Valid: Loss = 1.98\n",
            "Model Saved!\n",
            "......................................................................................................................................................\n",
            "Epoch 0 Sample 0: In last night, the birds were so surprised that the big cloud was now gone. All its friends looked around the big, scary cloud in the clouds.\n",
            "Epoch 0 Sample 1: In last night, they were dreaming of their friends. They liked to hear them laugh and laugh. One night, they heard a loud noise. It sounded\n",
            "Epoch 0 Sample 2: In last night, the princess and her princess were standing in the sun. But when the sun went down, the princess was still asleep.\n",
            "\n",
            "The\n",
            "......................................................................................................................................................\n",
            "Epoch 0 Sample 0: Once upon a time, there were two friends, Lily and Sam. They loved to play together in the snow. One day, they found a big,\n",
            "Epoch 0 Sample 1: Once upon a time, there was a girl named Lily. She loved to play outside in the park. One day, she saw a big dog and asked\n",
            "Epoch 0 Sample 2: Once upon a time, there was a little girl named Lily. She loved to play outside in the park. One day, Lily saw a big, scary\n",
            "......................................................................................................................................................\n",
            "Epoch 0 Sample 0: Once upon a time, there was a big, fluffy lion. He lived in a thick jungle in the jungle. One day, he found a big hole\n",
            "Epoch 0 Sample 1: Once upon a time there was a little girl named Lily. She had a fancy toy bear that she loved to play with. One day, Lily's friend\n",
            "Epoch 0 Sample 2: Once upon a time there was a boy named Paul. He was the happiest boy had ever been. One day he was playing in his garden when he saw\n",
            "......................................................................................................................................................\n",
            "Epoch 0 Sample 0: One day, a little boy named TimTommy was a smart 3 year old, much smarter than the most. Every day, he would use his huge hands\n",
            "Epoch 0 Sample 1: One day, a little boy named TimTommy was a smart 3 year old, much smarter. He was always eager to try new things and exciting. \n",
            "\n",
            "Epoch 0 Sample 2: One day, a little boy named TimTommy was a smart 3 year old, much smarter. He worked hard to be obedient, but every day he made\n",
            "......................................................................................................................................................\n"
          ]
        },
        {
          "output_type": "stream",
          "name": "stderr",
          "text": [
            "Epoch 1: 100%|███████████████████████████████████████████████████| 18773/18773 [1:15:36<00:00,  4.14batch/s, loss=1.95]\n"
          ]
        },
        {
          "output_type": "stream",
          "name": "stdout",
          "text": [
            "Valid: Loss = 1.942\n",
            "Model Saved!\n",
            "......................................................................................................................................................\n"
          ]
        },
        {
          "output_type": "stream",
          "name": "stderr",
          "text": [
            "Epoch 2: 100%|█████████████████████████████████████████████████████| 18773/18773 [49:51<00:00,  6.28batch/s, loss=1.93]\n"
          ]
        },
        {
          "output_type": "stream",
          "name": "stdout",
          "text": [
            "Valid: Loss = 1.925\n",
            "Model Saved!\n",
            "......................................................................................................................................................\n",
            "Epoch 2 Sample 0: In last night, a little girl was going to take a nap. She lay down in her bed, closed her eyes, and snuggled up in her bed\n",
            "Epoch 2 Sample 1: In last night, something special happened. The sky lit up in amazing happened and a few people started their day to fall asleep. Suddenly, a loud crash\n",
            "Epoch 2 Sample 2: In last night, a chubby boy named Tim went to bed up in his beds with a big smile on his face. He was happy and ready to sleep\n",
            "......................................................................................................................................................\n",
            "Epoch 2 Sample 0: Once upon a time, there were two friends, Fred and Bob. Fred had a new toy. It was a bright red balloon, and Bob wanted to\n",
            "Epoch 2 Sample 1: Once upon a time, there was a girl named Lily. She loved to play in her garden. One day, she found a big, shiny coin.\n",
            "Epoch 2 Sample 2: Once upon a time, there was a little boy named Timmy. Timmy loved to play with his toy cars and trucks. One day, Timmy's car broke\n",
            "......................................................................................................................................................\n",
            "Epoch 2 Sample 0: Once upon a time, there was a big house with a hairy dog. The dog liked to sit on the table with the toys. One day, a\n",
            "Epoch 2 Sample 1: Once upon a time there was a little girl named Daisy. Daisy liked to wander around in the sunshine. Every day, Daisy would wander around and explore.\n",
            "Epoch 2 Sample 2: Once upon a time there was a big white pig. He was small and strong with many ears. One day he was walking in the woods and he saw\n",
            "......................................................................................................................................................\n",
            "Epoch 2 Sample 0: One day, a little boy named TimTommy was a smart 3 year old, much smarter than his own. Every day, he found a secret hidden in\n",
            "Epoch 2 Sample 1: One day, a little boy named TimTommy was a smart 3 year old, much smarter. He loved to play with his toys and his special rag,\n",
            "Epoch 2 Sample 2: One day, a little boy named TimTommy was a smart 3 year old, much smarter. He especially loved to climb trees, but the other kids loved\n",
            "......................................................................................................................................................\n"
          ]
        }
      ],
      "source": [
        "torch.manual_seed(1337)\n",
        "num_epochs = 2\n",
        "\n",
        "for epoch in range(0, num_epochs+1):\n",
        "    # Train\n",
        "    loss_train = train_one_epoch(model, train_loader, optimizer, epoch)\n",
        "\n",
        "    # Validation\n",
        "    loss_valid = evaluate(model, valid_loader)\n",
        "    print(f'Valid: Loss = {loss_valid:.4}')\n",
        "\n",
        "    loss_train_hist.append(loss_train)\n",
        "    loss_valid_hist.append(loss_valid)\n",
        "\n",
        "    if loss_valid < best_loss_valid:\n",
        "        torch.save(model, f'best-model.pt')\n",
        "        best_loss_valid = loss_valid\n",
        "        print(f'Model Saved!')\n",
        "    print(150*'.')\n",
        "\n",
        "    # Generate\n",
        "    if epoch % 3 == 0 or epoch == num_epochs:\n",
        "        model.eval()\n",
        "        for xgen in sent_test:\n",
        "            xgen = generate_text(model, tokenizer, xgen, max_length, temperature, 50, 3, device)\n",
        "            for i, text in enumerate(xgen):\n",
        "                print(f\"Epoch {epoch} Sample {i}: {text}\")\n",
        "            print(150*'.')\n",
        "\n",
        "    epoch_counter += 1"
      ]
    },
    {
      "cell_type": "code",
      "source": [
        "torch.cuda.empty_cache()"
      ],
      "metadata": {
        "id": "KvIcb5SQEzuu",
        "colab": {
          "base_uri": "https://localhost:8080/",
          "height": 17
        },
        "outputId": "38381402-ec55-4565-a28a-f1af141568b7"
      },
      "execution_count": null,
      "outputs": [
        {
          "output_type": "display_data",
          "data": {
            "text/plain": [
              "<IPython.core.display.HTML object>"
            ],
            "text/html": [
              "<style>\n",
              "    body {\n",
              "      font-size: 24px;\n",
              "    }\n",
              "  "
            ]
          },
          "metadata": {}
        }
      ]
    },
    {
      "cell_type": "markdown",
      "metadata": {
        "id": "CgpgXUYbuwHn"
      },
      "source": [
        "## 🟠 Learning Curves"
      ]
    },
    {
      "cell_type": "code",
      "execution_count": null,
      "metadata": {
        "id": "cc4iNXKQuwHn",
        "colab": {
          "base_uri": "https://localhost:8080/",
          "height": 546
        },
        "outputId": "25f71463-a274-4628-8a4a-4786a7f338ef"
      },
      "outputs": [
        {
          "output_type": "display_data",
          "data": {
            "text/plain": [
              "<IPython.core.display.HTML object>"
            ],
            "text/html": [
              "<style>\n",
              "    body {\n",
              "      font-size: 24px;\n",
              "    }\n",
              "  "
            ]
          },
          "metadata": {}
        },
        {
          "output_type": "display_data",
          "data": {
            "text/plain": [
              "<Figure size 800x600 with 1 Axes>"
            ],
            "image/png": "[encoded data removed]"
          },
          "metadata": {}
        }
      ],
      "source": [
        "plt.figure(figsize=(8, 6))\n",
        "\n",
        "plt.plot(range(len(loss_train_hist)), loss_train_hist, 'r-', label='Train')\n",
        "plt.plot(range(len(loss_valid_hist)), loss_valid_hist, 'b-', label='Validation')\n",
        "\n",
        "plt.xlabel('Epoch')\n",
        "plt.ylabel('loss')\n",
        "plt.grid(True)\n",
        "plt.legend();"
      ]
    }
  ]
}