{
  "nbformat": 4,
  "nbformat_minor": 0,
  "metadata": {
    "colab": {
      "provenance": [],
      "collapsed_sections": [
        "VrFCH9hpEyip",
        "3in1e9BksgIh",
        "d7Psbf21OXiW",
        "w_a3OXnSeV0z",
        "RwaY_YcgRayy",
        "RTql4Ftiunfr",
        "f8tPUUrtQ9Pj",
        "lAoYRsvKN_8l",
        "WTVewgG-m7nq",
        "ih6sV9ljndzW",
        "LCzTHf8iitEt",
        "W0QNbC0YPCKZ",
        "ACjVH6bBpAEV",
        "Tc_zTOcmOXir",
        "MLteBNsVNtsN",
        "o_5f69nwPtY2"
      ]
    },
    "kernelspec": {
      "name": "python3",
      "display_name": "Python 3"
    },
    "language_info": {
      "name": "python"
    }
  },
  "cells": [
    {
      "cell_type": "markdown",
      "metadata": {
        "id": "-uXkcYhkIxS-"
      },
      "source": [
        "#  <font color='#FFE15D'><b>💎 Train, Evaluate, and Generate Functions (LLM-specific) </b></font><font color='#FF0B55'><b>[Final]</b></font>"
      ]
    },
    {
      "cell_type": "markdown",
      "metadata": {
        "id": "VrFCH9hpEyip",
        "jp-MarkdownHeadingCollapsed": true
      },
      "source": [
        "# 🔴 **Environment Setup**"
      ]
    },
    {
      "cell_type": "markdown",
      "metadata": {
        "id": "3in1e9BksgIh",
        "jp-MarkdownHeadingCollapsed": true
      },
      "source": [
        "## 🟠 Change the font size of the output cells"
      ]
    },
    {
      "cell_type": "code",
      "execution_count": null,
      "metadata": {
        "colab": {
          "base_uri": "https://localhost:8080/"
        },
        "id": "1_nYkVog8SUR",
        "outputId": "390bad30-8132-41d6-bbd1-576daeb7dba3"
      },
      "outputs": [
        {
          "output_type": "stream",
          "name": "stdout",
          "text": [
            "Salam Howsam!\n"
          ]
        }
      ],
      "source": [
        "print('Salam Howsam!')"
      ]
    },
    {
      "cell_type": "code",
      "execution_count": null,
      "metadata": {
        "id": "BmMM0EfKsSiO"
      },
      "outputs": [],
      "source": [
        "from IPython.display import HTML\n",
        "shell = get_ipython()\n",
        "\n",
        "def adjust_font_size():\n",
        "  display(HTML('''<style>\n",
        "    body {\n",
        "      font-size: 24px;\n",
        "    }\n",
        "  '''))\n",
        "\n",
        "if adjust_font_size not in shell.events.callbacks['pre_execute']:\n",
        "  shell.events.register('pre_execute', adjust_font_size)"
      ]
    },
    {
      "cell_type": "code",
      "execution_count": null,
      "metadata": {
        "colab": {
          "base_uri": "https://localhost:8080/"
        },
        "id": "10N1yUE88XRW",
        "outputId": "3a31b825-dcff-4120-fe9d-3898f47319ad"
      },
      "outputs": [
        {
          "output_type": "display_data",
          "data": {
            "text/plain": [
              "<IPython.core.display.HTML object>"
            ],
            "text/html": [
              "<style>\n",
              "    body {\n",
              "      font-size: 24px;\n",
              "    }\n",
              "  "
            ]
          },
          "metadata": {}
        },
        {
          "output_type": "stream",
          "name": "stdout",
          "text": [
            "Salam Howsam!\n"
          ]
        }
      ],
      "source": [
        "print('Salam Howsam!')"
      ]
    },
    {
      "cell_type": "markdown",
      "metadata": {
        "jp-MarkdownHeadingCollapsed": true,
        "id": "d7Psbf21OXiW"
      },
      "source": [
        "## 🟠 `pip`"
      ]
    },
    {
      "cell_type": "code",
      "execution_count": null,
      "metadata": {
        "id": "jv21KFRNOXiX"
      },
      "outputs": [],
      "source": []
    },
    {
      "cell_type": "markdown",
      "metadata": {
        "id": "w_a3OXnSeV0z",
        "jp-MarkdownHeadingCollapsed": true
      },
      "source": [
        "# 🔴 **Import**"
      ]
    },
    {
      "cell_type": "code",
      "execution_count": null,
      "metadata": {
        "colab": {
          "base_uri": "https://localhost:8080/"
        },
        "id": "vhlVJEkJeTsV",
        "outputId": "f1eb9478-6a2e-4d7a-c268-7fff33eb5889"
      },
      "outputs": [
        {
          "output_type": "display_data",
          "data": {
            "text/plain": [
              "<IPython.core.display.HTML object>"
            ],
            "text/html": [
              "<style>\n",
              "    body {\n",
              "      font-size: 24px;\n",
              "    }\n",
              "  "
            ]
          },
          "metadata": {}
        }
      ],
      "source": [
        "import os\n",
        "import sys\n",
        "import time\n",
        "import math\n",
        "import json\n",
        "import random\n",
        "from tqdm import tqdm\n",
        "from pprint import pprint\n",
        "from itertools import cycle\n",
        "from termcolor import colored\n",
        "from dataclasses import dataclass\n",
        "from prettytable import PrettyTable\n",
        "\n",
        "import numpy as np\n",
        "import matplotlib.pyplot as plt\n",
        "import seaborn as sns\n",
        "sns.set()\n",
        "\n",
        "from datasets import load_dataset\n",
        "from tokenizers import Tokenizer\n",
        "\n",
        "import torch\n",
        "from torch.utils.data import Dataset, DataLoader\n",
        "from torch import nn\n",
        "from torch.nn import functional as F\n",
        "\n",
        "from torchmetrics import MeanMetric"
      ]
    },
    {
      "cell_type": "markdown",
      "metadata": {
        "id": "RwaY_YcgRayy",
        "jp-MarkdownHeadingCollapsed": true
      },
      "source": [
        "# 🔴 **Utils**"
      ]
    },
    {
      "cell_type": "code",
      "execution_count": null,
      "metadata": {
        "id": "5pmcazW7OXia",
        "outputId": "5806dbd9-66bc-47e8-bfbc-fd5f3b4fc664",
        "colab": {
          "base_uri": "https://localhost:8080/"
        }
      },
      "outputs": [
        {
          "output_type": "display_data",
          "data": {
            "text/plain": [
              "<IPython.core.display.HTML object>"
            ],
            "text/html": [
              "<style>\n",
              "    body {\n",
              "      font-size: 24px;\n",
              "    }\n",
              "  "
            ]
          },
          "metadata": {}
        }
      ],
      "source": [
        "def prepare_data(tokens, seq_len):\n",
        "    # Trim tokens so that total length is divisible by seq_len\n",
        "    n_tokens = (tokens.shape[0] // seq_len) * seq_len\n",
        "    tokens = tokens[:n_tokens]\n",
        "    # Reshape to 2D tensor\n",
        "    return tokens.view(-1, seq_len)"
      ]
    },
    {
      "cell_type": "code",
      "execution_count": null,
      "metadata": {
        "colab": {
          "base_uri": "https://localhost:8080/"
        },
        "id": "PpKbTUEIRayz",
        "outputId": "c573f1ce-4ce0-4426-e004-1f9fc7e9b8c4"
      },
      "outputs": [
        {
          "output_type": "display_data",
          "data": {
            "text/plain": [
              "<IPython.core.display.HTML object>"
            ],
            "text/html": [
              "<style>\n",
              "    body {\n",
              "      font-size: 24px;\n",
              "    }\n",
              "  "
            ]
          },
          "metadata": {}
        }
      ],
      "source": [
        "def num_trainable_params(model):\n",
        "  nums = sum(p.numel() for p in model.parameters() if p.requires_grad)/1e6\n",
        "  return nums"
      ]
    },
    {
      "cell_type": "code",
      "execution_count": null,
      "metadata": {
        "colab": {
          "base_uri": "https://localhost:8080/"
        },
        "id": "G6LDfZvmOLcI",
        "outputId": "e77797b8-6949-4644-cc17-1b660073a148"
      },
      "outputs": [
        {
          "output_type": "display_data",
          "data": {
            "text/plain": [
              "<IPython.core.display.HTML object>"
            ],
            "text/html": [
              "<style>\n",
              "    body {\n",
              "      font-size: 24px;\n",
              "    }\n",
              "  "
            ]
          },
          "metadata": {}
        }
      ],
      "source": [
        "# Benchmarking function\n",
        "def calculate_time(model, x, num_runs=10):\n",
        "    torch.cuda.synchronize()\n",
        "    start = time.time()\n",
        "    for _ in range(num_runs):\n",
        "        model(x)\n",
        "    torch.cuda.synchronize()\n",
        "    return (time.time() - start) / num_runs"
      ]
    },
    {
      "cell_type": "markdown",
      "metadata": {
        "id": "RTql4Ftiunfr"
      },
      "source": [
        "# 🔴 **Dataset**"
      ]
    },
    {
      "cell_type": "code",
      "execution_count": null,
      "metadata": {
        "colab": {
          "base_uri": "https://localhost:8080/"
        },
        "id": "xqqBMjGnz1IL",
        "outputId": "eccc0a1b-874f-4622-c0b4-e515102340a8"
      },
      "outputs": [
        {
          "output_type": "display_data",
          "data": {
            "text/plain": [
              "<IPython.core.display.HTML object>"
            ],
            "text/html": [
              "<style>\n",
              "    body {\n",
              "      font-size: 24px;\n",
              "    }\n",
              "  "
            ]
          },
          "metadata": {}
        }
      ],
      "source": [
        "class TinyStoriesDataset(Dataset):\n",
        "\n",
        "    def __init__(self, data, seq_len):\n",
        "        self.seq_len = seq_len\n",
        "        self.data = prepare_data(data, seq_len+1)\n",
        "\n",
        "    def __len__(self):\n",
        "        return self.data.shape[0]\n",
        "\n",
        "    def __getitem__(self, idx):\n",
        "        sample = self.data[idx]\n",
        "        return sample.long()#[:-1], sample[1:]"
      ]
    },
    {
      "cell_type": "markdown",
      "source": [
        "# 🔴 **Model**"
      ],
      "metadata": {
        "id": "f8tPUUrtQ9Pj"
      }
    },
    {
      "cell_type": "markdown",
      "source": [
        "## 🟠 Multi Head Attention"
      ],
      "metadata": {
        "id": "lAoYRsvKN_8l"
      }
    },
    {
      "cell_type": "code",
      "source": [
        "class MultiHeadAttention(nn.Module):\n",
        "\n",
        "    def __init__(self, config):\n",
        "        super().__init__()\n",
        "        self.n_embd = config.n_embd\n",
        "        self.n_head = config.n_head\n",
        "        self.head_size = self.n_embd // self.n_head\n",
        "\n",
        "        self.qkv_proj = nn.Linear(self.n_embd, 3*self.n_embd, bias=False)\n",
        "        self.c_proj = nn.Linear(self.n_embd, self.n_embd, bias=False)\n",
        "        self.c_proj.residual = True\n",
        "\n",
        "    def forward(self, x):\n",
        "        B, T, C = x.shape\n",
        "        # QKV linear\n",
        "        q, k, v = self.qkv_proj(x).view(B, T, 3*self.n_head, self.head_size).transpose(1, 2).chunk(3, dim=-3)\n",
        "        # Scaled Dot Product Attention using pytorch\n",
        "        y = F.scaled_dot_product_attention(q, k, v, is_causal=True)\n",
        "        # Reshape and final projection\n",
        "        y = y.transpose(1, 2).contiguous().view(B, T, C)\n",
        "        y = self.c_proj(y)\n",
        "        return y"
      ],
      "metadata": {
        "id": "gnxYy1oIQcY-",
        "colab": {
          "base_uri": "https://localhost:8080/"
        },
        "outputId": "1550101a-c161-460e-bd39-4d037ed3cf88"
      },
      "execution_count": null,
      "outputs": [
        {
          "output_type": "display_data",
          "data": {
            "text/plain": [
              "<IPython.core.display.HTML object>"
            ],
            "text/html": [
              "<style>\n",
              "    body {\n",
              "      font-size: 24px;\n",
              "    }\n",
              "  "
            ]
          },
          "metadata": {}
        }
      ]
    },
    {
      "cell_type": "markdown",
      "source": [
        "## 🟠 Feed Forward (MLP)"
      ],
      "metadata": {
        "id": "WTVewgG-m7nq"
      }
    },
    {
      "cell_type": "code",
      "source": [
        "class FeedForward(nn.Module):\n",
        "\n",
        "    def __init__(self, config):\n",
        "        super().__init__()\n",
        "        self.n_embd = config.n_embd\n",
        "        self.f_expnd = config.f_expnd\n",
        "\n",
        "        self.up_proj = nn.Linear(self.n_embd, int(self.f_expnd*self.n_embd), bias=False)\n",
        "        self.down_proj = nn.Linear(int(self.f_expnd*self.n_embd), self.n_embd, bias=False)\n",
        "        self.down_proj.residual = True\n",
        "\n",
        "    def forward(self, x):\n",
        "        return self.down_proj(F.gelu(self.up_proj(x)))"
      ],
      "metadata": {
        "id": "BTcx4J5Lm66z",
        "colab": {
          "base_uri": "https://localhost:8080/"
        },
        "outputId": "792a3cee-e1a4-4ee9-b456-70a8491e00d3"
      },
      "execution_count": null,
      "outputs": [
        {
          "output_type": "display_data",
          "data": {
            "text/plain": [
              "<IPython.core.display.HTML object>"
            ],
            "text/html": [
              "<style>\n",
              "    body {\n",
              "      font-size: 24px;\n",
              "    }\n",
              "  "
            ]
          },
          "metadata": {}
        }
      ]
    },
    {
      "cell_type": "markdown",
      "source": [
        "## 🟠 Decoder Block"
      ],
      "metadata": {
        "id": "ih6sV9ljndzW"
      }
    },
    {
      "cell_type": "code",
      "source": [
        "class DecoderBlock(nn.Module):\n",
        "\n",
        "    def __init__(self, config):\n",
        "        super().__init__()\n",
        "        self.n_embd = config.n_embd\n",
        "        # Multi Head Attention\n",
        "        self.ln1 = nn.LayerNorm(config.n_embd)\n",
        "        self.mha = MultiHeadAttention(config)\n",
        "        # Feed Forward Neural Network\n",
        "        self.ln2 = nn.LayerNorm(config.n_embd)\n",
        "        self.mlp = FeedForward(config)\n",
        "\n",
        "    def forward(self, x):\n",
        "        x = x + self.mha(self.ln1(x))\n",
        "        x = x + self.mlp(self.ln2(x))\n",
        "        return x"
      ],
      "metadata": {
        "id": "Gq1kw31av9DR",
        "colab": {
          "base_uri": "https://localhost:8080/"
        },
        "outputId": "feb5eb87-01c4-4d3c-b699-486eb1637994"
      },
      "execution_count": null,
      "outputs": [
        {
          "output_type": "display_data",
          "data": {
            "text/plain": [
              "<IPython.core.display.HTML object>"
            ],
            "text/html": [
              "<style>\n",
              "    body {\n",
              "      font-size: 24px;\n",
              "    }\n",
              "  "
            ]
          },
          "metadata": {}
        }
      ]
    },
    {
      "cell_type": "markdown",
      "source": [
        "## 🟠 GPT"
      ],
      "metadata": {
        "id": "LCzTHf8iitEt"
      }
    },
    {
      "cell_type": "code",
      "source": [
        "class GPT(nn.Module):\n",
        "\n",
        "    def __init__(self, config):\n",
        "        super().__init__()\n",
        "        self.config = config\n",
        "        self.wte = nn.Embedding(config.vocab_size, config.n_embd) # Token embedding\n",
        "        self.wpe = nn.Embedding(config.max_seq_len, config.n_embd) # Position embedding\n",
        "        self.decoders = nn.ModuleList([DecoderBlock(config) for _ in range(config.n_layer)]) # Decoders\n",
        "        self.lnf = nn.LayerNorm(config.n_embd)\n",
        "        self.lm_head = nn.Linear(config.n_embd, config.vocab_size, bias=False) # Classifier\n",
        "        self.lm_head.weight = self.wte.weight # Weight tying\n",
        "\n",
        "        self.apply(self._init_weights)\n",
        "\n",
        "    def _init_weights(self, module):\n",
        "        std = 0.02\n",
        "        if isinstance(module, nn.Linear):\n",
        "            if hasattr(module, 'residual'):\n",
        "                std *= (2*self.config.n_layer)**-0.5\n",
        "            nn.init.normal_(module.weight, mean=0.0, std=std)\n",
        "            if module.bias is not None:\n",
        "                nn.init.zeros_(module.bias)\n",
        "        elif isinstance(module, nn.Embedding):\n",
        "            nn.init.normal_(module.weight, mean=0.0, std=std)\n",
        "\n",
        "    def forward(self, idx):\n",
        "        B, T = idx.shape\n",
        "        # Token Embedding + Position Embedding\n",
        "        x = self.wte(idx) + self.wpe(torch.arange(T, device=idx.device))\n",
        "        # Decoders\n",
        "        for decoder in self.decoders:\n",
        "            x = decoder(x)\n",
        "        # Classifier\n",
        "        x = self.lnf(x)\n",
        "        logits = self.lm_head(x)\n",
        "        return logits"
      ],
      "metadata": {
        "id": "Lmrc034JwvSS",
        "colab": {
          "base_uri": "https://localhost:8080/"
        },
        "outputId": "778001cd-bdde-40b2-e631-f2d44d428349"
      },
      "execution_count": null,
      "outputs": [
        {
          "output_type": "display_data",
          "data": {
            "text/plain": [
              "<IPython.core.display.HTML object>"
            ],
            "text/html": [
              "<style>\n",
              "    body {\n",
              "      font-size: 24px;\n",
              "    }\n",
              "  "
            ]
          },
          "metadata": {}
        }
      ]
    },
    {
      "cell_type": "markdown",
      "metadata": {
        "id": "W0QNbC0YPCKZ"
      },
      "source": [
        "# 🔴 **Functions ⚙️**"
      ]
    },
    {
      "cell_type": "markdown",
      "metadata": {
        "id": "ACjVH6bBpAEV"
      },
      "source": [
        "## 🟠 Logger"
      ]
    },
    {
      "cell_type": "code",
      "source": [
        "# Logger class for saving and plotting training logs\n",
        "class Logger:\n",
        "    \"\"\"\n",
        "    Manages training history logging, saving to disk, and plotting learning curves.\n",
        "    \"\"\"\n",
        "    def __init__(self, log_dir='logs', run_name='default_run'):\n",
        "        self.log_dir = log_dir\n",
        "        os.makedirs(self.log_dir, exist_ok=True)\n",
        "        self.run_name = run_name\n",
        "        self.history = {\n",
        "            'train_loss': [],\n",
        "            'valid_loss': [],\n",
        "            'best_loss_valid': float('inf'),\n",
        "            'seen_tokens': []\n",
        "        }\n",
        "\n",
        "    def log(self, train_loss, valid_loss, seen_tokens):\n",
        "        self.history['train_loss'].append(train_loss)\n",
        "        self.history['valid_loss'].append(valid_loss)\n",
        "        self.history['seen_tokens'].append(seen_tokens)\n",
        "\n",
        "    def save(self):\n",
        "        # Save history\n",
        "        file_path = os.path.join(self.log_dir, f'{self.run_name}.json')\n",
        "        with open(file_path, 'w') as f:\n",
        "            json.dump(self.history, f, indent=4)\n",
        "        # Save best model and optimizer\n",
        "        current_loss_valid = self.history['valid_loss'][-1]\n",
        "        if current_loss_valid < self.history['best_loss_valid']:\n",
        "            log = dict(model=model.state_dict(), optimizer=optimizer)\n",
        "            torch.save(log, f'{self.log_dir}/best-model.pt')\n",
        "            self.history['best_loss_valid'] = current_loss_valid\n",
        "            print(\"✅ Model Saved!\")\n",
        "\n",
        "    def plot(self):\n",
        "        plt.figure(figsize=(10, 5))\n",
        "        plt.plot(self.history['seen_tokens'], self.history['train_loss'], label='Train Loss')\n",
        "        plt.plot(self.history['seen_tokens'], self.history['valid_loss'], label='Valid Loss')\n",
        "        plt.xlabel('Seen Tokens')\n",
        "        plt.ylabel('Loss')\n",
        "        plt.title(f'Training Curve: {self.run_name}')\n",
        "        plt.legend()\n",
        "        plt.grid(True)\n",
        "        plt.tight_layout()\n",
        "        plt.savefig(os.path.join(self.log_dir, f'{self.run_name}_curve.png'))\n",
        "        plt.show()"
      ],
      "metadata": {
        "colab": {
          "base_uri": "https://localhost:8080/"
        },
        "id": "yhLxBeKtreKx",
        "outputId": "e90c4634-44d3-445e-c6ca-13068311ac8b"
      },
      "execution_count": null,
      "outputs": [
        {
          "output_type": "display_data",
          "data": {
            "text/plain": [
              "<IPython.core.display.HTML object>"
            ],
            "text/html": [
              "<style>\n",
              "    body {\n",
              "      font-size: 24px;\n",
              "    }\n",
              "  "
            ]
          },
          "metadata": {}
        }
      ]
    },
    {
      "cell_type": "markdown",
      "metadata": {
        "id": "Tc_zTOcmOXir"
      },
      "source": [
        "## 🟠 Train ➰"
      ]
    },
    {
      "cell_type": "code",
      "source": [
        "# Trainer class to manage model training, evaluation and reporting\n",
        "class LLMTrainer:\n",
        "    \"\"\"\n",
        "    Trainer handles training loops, periodic evaluation, logging, and sample generation.\n",
        "    \"\"\"\n",
        "    def __init__(self, model, optimizer, train_loader, valid_loader, tokenizer,\n",
        "                 loss_fn=F.cross_entropy, device='cuda',\n",
        "                 total_tokens=10_000_000, log_interval_tokens=1_000_000,\n",
        "                 generation=None):\n",
        "\n",
        "        self.model = model\n",
        "        self.optimizer = optimizer\n",
        "        self.train_loader = train_loader\n",
        "        self.valid_loader = valid_loader\n",
        "        self.tokenizer = tokenizer\n",
        "        self.loss_fn = loss_fn\n",
        "        self.device = device\n",
        "\n",
        "        self.seen_tokens = 0\n",
        "        self.total_tokens = total_tokens\n",
        "        self.token_eval_counter = 0\n",
        "        self.log_interval_tokens = log_interval_tokens\n",
        "\n",
        "        self.logger = Logger(log_dir='logs', run_name='gpt2_tinystories')\n",
        "        self._print_config_summary()\n",
        "\n",
        "        self.generation = generation\n",
        "\n",
        "    def train(self):\n",
        "        \"\"\"\n",
        "        Main training loop that stops when total token count is reached.\n",
        "        \"\"\"\n",
        "        # Initial evaluation before any training\n",
        "        initial_loss = self.evaluate()\n",
        "        self.logger.log(initial_loss, initial_loss, 0)\n",
        "        print(f\"👶 [Initial] Train Loss (Untrained Model): {initial_loss:.4f}\\n\")\n",
        "\n",
        "        loss_train = MeanMetric()\n",
        "        self.model.train()\n",
        "        train_iter = cycle(self.train_loader)\n",
        "\n",
        "        batches = 0\n",
        "        total_time_elapsed = 0\n",
        "        start_time = time.time()\n",
        "\n",
        "        with tqdm(total=self.total_tokens, desc=\"Training\", unit=\"t\") as pbar:\n",
        "            while self.seen_tokens < self.total_tokens:\n",
        "                # Get inputs\n",
        "                inputs = next(train_iter).to(self.device)\n",
        "                # Forward pass\n",
        "                logits = self.model(inputs[:, :-1])\n",
        "                # Calculate loss\n",
        "                loss = self.loss_fn(logits.view(-1, logits.shape[-1]), inputs[:, 1:].flatten())\n",
        "                # Backward pass\n",
        "                loss.backward()\n",
        "                # Clip gradients\n",
        "                nn.utils.clip_grad.clip_grad_norm_(self.model.parameters(), max_norm=1.)\n",
        "                # Update model\n",
        "                self.optimizer.step()\n",
        "                self.optimizer.zero_grad()\n",
        "                # Calc running loss\n",
        "                loss_train.update(loss.item(), inputs.shape[0])\n",
        "\n",
        "                num_tokens_this_batch = inputs[:, :-1].numel()\n",
        "                self.seen_tokens += num_tokens_this_batch\n",
        "                self.token_eval_counter += num_tokens_this_batch\n",
        "                batches += 1\n",
        "                elapsed = time.time() - start_time\n",
        "                batches_per_sec = batches / elapsed\n",
        "\n",
        "                pbar.set_postfix({\n",
        "                    \"B/S\": f\"{batches_per_sec:.2f}\",\n",
        "                    \"Loss\": f\"{loss_train.compute().item():.4f}\",\n",
        "                    \"LR\": f\"{self.optimizer.param_groups[0]['lr']:.2e}\",\n",
        "                })\n",
        "                pbar.update(num_tokens_this_batch)\n",
        "\n",
        "                # Evaluate & Generate & Log\n",
        "                if (self.token_eval_counter >= self.log_interval_tokens) or (self.seen_tokens >= self.total_tokens):\n",
        "                    # Evaluate\n",
        "                    loss_valid = self.evaluate()\n",
        "                    print(f\"\\nValid Loss: {loss_valid:.4f}\")\n",
        "                    # Log\n",
        "                    self.logger.log(loss_train.compute().item(), loss_valid, self.seen_tokens)\n",
        "                    self.logger.save()\n",
        "                    # Generate\n",
        "                    if self.generation:\n",
        "                        self.generate()\n",
        "                    # Reset\n",
        "                    self.token_eval_counter = 0\n",
        "                    batches = 0\n",
        "                    start_time = time.time()\n",
        "\n",
        "        self.logger.plot()\n",
        "\n",
        "    def evaluate(self):\n",
        "        \"\"\"\n",
        "        Evaluate model on validation set.\n",
        "        \"\"\"\n",
        "        loss_valid = MeanMetric()\n",
        "        self.model.eval()\n",
        "        with torch.no_grad():\n",
        "            for inputs in self.valid_loader:\n",
        "                inputs = inputs.to(self.device)\n",
        "                logits = self.model(inputs[:, :-1])\n",
        "                loss = self.loss_fn(logits.view(-1, logits.shape[-1]), inputs[:, 1:].flatten())\n",
        "                loss_valid.update(loss.item(), inputs.shape[0])\n",
        "        return loss_valid.compute().item()\n",
        "\n",
        "    def generate(self):\n",
        "        \"\"\"\n",
        "        Generate and print text samples from the model.\n",
        "        \"\"\"\n",
        "        generated_texts = []\n",
        "        for prompt in self.generation.prompts:\n",
        "            gen_text = generate(\n",
        "                self.model, self.tokenizer, prompt,\n",
        "                n_rep=self.generation.n_rep,\n",
        "                max_seq_len=self.generation.max_seq_len,\n",
        "                T=self.generation.T, top_k=self.generation.top_k,\n",
        "                seed=self.generation.seed)\n",
        "            generated_texts.append(gen_text)\n",
        "        # TODO: Save\n",
        "        # Print\n",
        "        # print(150*'.')\n",
        "        # item = 0\n",
        "        # prompt0 = self.generation.prompts[item]\n",
        "        # for gen_text in generated_texts[item]:\n",
        "        #     print(colored(f\"\\n{prompt0}\", \"green\"), end='')\n",
        "        #     print(colored(f\"{gen_text[len(prompt0):]}\", \"cyan\"))\n",
        "        #     print(150*'.')\n",
        "        # print()\n",
        "        item = 0\n",
        "        prompt0 = self.generation.prompts[item]\n",
        "        gen_text0 = generated_texts[item][0]\n",
        "        print(colored(f\"\\n{prompt0}\", \"green\"), end='')\n",
        "        print(colored(f\"{gen_text0[len(prompt0):]}\", \"cyan\"))\n",
        "        print()\n",
        "\n",
        "    def _print_config_summary(self):\n",
        "        \"\"\"\n",
        "        Print a summary table of training configuration.\n",
        "        \"\"\"\n",
        "        table = PrettyTable()\n",
        "        table.title = \"Training Configuration Summary\"\n",
        "        table.field_names = [\"Component\", \"Details\"]\n",
        "        # Model\n",
        "        table.add_row([\"Model Type\", str(self.model.config).replace(\"Config\", \"\")])\n",
        "        # Optimizer\n",
        "        optimizer_name = self.optimizer.__class__.__name__\n",
        "        optimizer_params = ', '.join([f\"{k}={v}\" for k, v in self.optimizer.defaults.items() if k in [\"lr\", \"betas\", \"weight_decay\", \"fused\"]])\n",
        "        optimizer_display = f\"{optimizer_name}({optimizer_params})\"\n",
        "        table.add_row([\"Optimizer\", optimizer_display])\n",
        "        # Parameters\n",
        "        total_params = sum(p.numel() for p in self.model.parameters())\n",
        "        te_params = self.model.wte.weight.numel()\n",
        "        table.add_row([\"Total Parameters (Tr+TE)\", f\"{total_params:,} ({total_params-te_params:,}+{te_params:,})\"])\n",
        "\n",
        "        table.add_row([\"Loss Function\", self.loss_fn.__name__ if hasattr(self.loss_fn, '__name__') else str(self.loss_fn)])\n",
        "        table.add_row([\"Batch Shape\", f\"{self.train_loader.batch_size}x{self.train_loader.dataset[0].shape[-1]-1}\"])\n",
        "        table.add_row([\"Device\", self.device])\n",
        "        table.add_row([\"Max Tokens\", f\"{self.total_tokens:,}\"])\n",
        "        table.add_row([\"Log Interval Tokens\", f\"{self.log_interval_tokens:,}\"])\n",
        "        print(table)"
      ],
      "metadata": {
        "colab": {
          "base_uri": "https://localhost:8080/",
          "height": 17
        },
        "id": "_6nuZ2JsE5d8",
        "outputId": "fb4d5dfb-42de-44cc-e4e4-bc19f84b69b0"
      },
      "execution_count": null,
      "outputs": [
        {
          "output_type": "display_data",
          "data": {
            "text/plain": [
              "<IPython.core.display.HTML object>"
            ],
            "text/html": [
              "<style>\n",
              "    body {\n",
              "      font-size: 24px;\n",
              "    }\n",
              "  "
            ]
          },
          "metadata": {}
        }
      ]
    },
    {
      "cell_type": "markdown",
      "metadata": {
        "id": "MLteBNsVNtsN"
      },
      "source": [
        "## 🟠 Generate"
      ]
    },
    {
      "cell_type": "code",
      "source": [
        "def generate(model, tokenizer, prompt, n_rep=5, max_seq_len=128, T=0.9, top_k=10, device='cuda', seed=42):\n",
        "    # Tokenize the prompt and convert it to a tensor on the specified device (e.g., GPU)\n",
        "    inputs = torch.tensor(tokenizer.encode(prompt).ids, dtype=torch.int, device=device)  # Shape: [T]\n",
        "\n",
        "    # Repeat the input prompt n_rep times to generate multiple sequences in parallel\n",
        "    inputs = inputs.unsqueeze(0).repeat(n_rep, 1)  # Shape: [B, T] where B = n_rep\n",
        "\n",
        "    # Set the model to evaluation mode\n",
        "    model.eval()\n",
        "\n",
        "    # Initialize a random number generator for sampling\n",
        "    sample_rng = torch.Generator(device=device)\n",
        "    sample_rng.manual_seed(seed)\n",
        "\n",
        "    # Disable gradient calculation for faster inference\n",
        "    with torch.no_grad():\n",
        "        # Continue generating tokens until reaching the maximum sequence length\n",
        "        while inputs.shape[-1] < max_seq_len:\n",
        "            # Forward pass: get logits from the model\n",
        "            logits = model(inputs)  # Shape: [B, T, vocab_size]\n",
        "\n",
        "            # Apply temperature scaling and softmax to get probabilities for the next token\n",
        "            probs = torch.softmax(logits[:, -1, :] / T, dim=-1)  # Shape: [B, vocab_size]\n",
        "\n",
        "            # Select the top_k tokens with the highest probabilities\n",
        "            topk_probs, topk_indices = torch.topk(probs, k=top_k, dim=-1)  # Shape: [B, top_k]\n",
        "\n",
        "            # Sample one token from the top_k candidates based on their probabilities\n",
        "            ids = torch.multinomial(topk_probs, 1, generator=sample_rng)  # Shape: [B, 1]\n",
        "\n",
        "            # Map the sampled indices back to the original token IDs\n",
        "            ids = torch.gather(topk_indices, -1, ids)  # Shape: [B, 1]\n",
        "\n",
        "            # Append the sampled tokens to the input sequence\n",
        "            inputs = torch.cat((inputs, ids), dim=-1)  # Shape: [B, T+1]\n",
        "\n",
        "    # Decode the generated sequences back into text\n",
        "    generated_text = tokenizer.decode_batch(inputs.tolist())\n",
        "\n",
        "    return generated_text"
      ],
      "metadata": {
        "id": "q8AHJrxFTfs2",
        "colab": {
          "base_uri": "https://localhost:8080/"
        },
        "outputId": "ae48507b-67bf-42c4-a883-4113fc666914"
      },
      "execution_count": null,
      "outputs": [
        {
          "output_type": "display_data",
          "data": {
            "text/plain": [
              "<IPython.core.display.HTML object>"
            ],
            "text/html": [
              "<style>\n",
              "    body {\n",
              "      font-size: 24px;\n",
              "    }\n",
              "  "
            ]
          },
          "metadata": {}
        }
      ]
    },
    {
      "cell_type": "code",
      "source": [
        "def display_chat_style(prompt, generated_text, tokenizer, delay=0.03):\n",
        "    \"\"\"\n",
        "    Display generated text in a token-by-token ChatGPT-like style:\n",
        "    - prompt in green\n",
        "    - generated continuation in blue\n",
        "    \"\"\"\n",
        "    for i, full_text in enumerate(generated_text):\n",
        "        print(colored(f\"\\n[Sample {i+1}]\", \"yellow\"))\n",
        "        input_ids = tokenizer.encode(prompt).ids\n",
        "        full_ids = tokenizer.encode(full_text).ids\n",
        "\n",
        "        # Split into prompt tokens and continuation\n",
        "        prompt_tokens = full_ids[:len(input_ids)]\n",
        "        continuation_tokens = full_ids[len(input_ids):]\n",
        "\n",
        "        # Decode tokens separately\n",
        "        prompt_text = tokenizer.decode(prompt_tokens)\n",
        "        cont_tokens_text = [tokenizer.decode([tid]) for tid in continuation_tokens]\n",
        "\n",
        "        # Print prompt in green\n",
        "        sys.stdout.write(colored(prompt_text, 'green'))\n",
        "        sys.stdout.flush()\n",
        "\n",
        "        # Print continuation token-by-token in blue\n",
        "        for token in cont_tokens_text:\n",
        "            sys.stdout.write(colored(token, 'cyan'))\n",
        "            sys.stdout.flush()\n",
        "            time.sleep(delay)\n",
        "        print()"
      ],
      "metadata": {
        "colab": {
          "base_uri": "https://localhost:8080/"
        },
        "id": "ItFI4ge5p_Tg",
        "outputId": "3117a6d8-050b-4d6f-e492-4af7cdccff77"
      },
      "execution_count": null,
      "outputs": [
        {
          "output_type": "display_data",
          "data": {
            "text/plain": [
              "<IPython.core.display.HTML object>"
            ],
            "text/html": [
              "<style>\n",
              "    body {\n",
              "      font-size: 24px;\n",
              "    }\n",
              "  "
            ]
          },
          "metadata": {}
        }
      ]
    },
    {
      "cell_type": "markdown",
      "metadata": {
        "id": "o_5f69nwPtY2"
      },
      "source": [
        "# 🔴 **Config**"
      ]
    },
    {
      "cell_type": "code",
      "source": [
        "@dataclass\n",
        "class DatasetConfig:\n",
        "    train_path: str\n",
        "    valid_path: str\n",
        "    tokenizer_path: str\n",
        "    batch_size: int = 32\n",
        "    seq_len: int = 128\n",
        "\n",
        "\n",
        "@dataclass\n",
        "class GPTConfig:\n",
        "    vocab_size: int = 50257\n",
        "    max_seq_len: int = 1024\n",
        "    n_layer: int = 12\n",
        "    n_head: int = 12\n",
        "    n_embd: int = 768\n",
        "    f_expnd: int = 4\n",
        "\n",
        "\n",
        "@dataclass\n",
        "class OptimizerConfig:\n",
        "    lr: float = 3e-4\n",
        "    betas: tuple = (0.9, 0.95)\n",
        "    weight_decay: float = 0.1\n",
        "    fused: bool = True\n",
        "\n",
        "\n",
        "@dataclass\n",
        "class TrainConfig:\n",
        "    seed: int = 42\n",
        "    device: str = 'cuda'\n",
        "    total_tokens: int = 100_000\n",
        "    log_interval_tokens: int = 50_000\n",
        "\n",
        "\n",
        "@dataclass\n",
        "class GenerationConfig:\n",
        "    prompts: list[str]\n",
        "    T: float = 0.9\n",
        "    max_seq_len: int = 128\n",
        "    top_k: int = 10\n",
        "    n_rep: int = 3\n",
        "    seed: int = 42\n",
        "\n",
        "\n",
        "@dataclass\n",
        "class MasterConfig:\n",
        "    data: DatasetConfig\n",
        "    model: GPTConfig\n",
        "    optimizer: OptimizerConfig\n",
        "    train: TrainConfig\n",
        "    generation: GenerationConfig"
      ],
      "metadata": {
        "colab": {
          "base_uri": "https://localhost:8080/"
        },
        "id": "oIkx-mzbztIg",
        "outputId": "7a4dab44-1b76-4d5a-f98f-9e59a32c9ba9"
      },
      "execution_count": null,
      "outputs": [
        {
          "output_type": "display_data",
          "data": {
            "text/plain": [
              "<IPython.core.display.HTML object>"
            ],
            "text/html": [
              "<style>\n",
              "    body {\n",
              "      font-size: 24px;\n",
              "    }\n",
              "  "
            ]
          },
          "metadata": {}
        }
      ]
    },
    {
      "cell_type": "markdown",
      "metadata": {
        "id": "4hafbAF356Xv"
      },
      "source": [
        "# 🔴 **Training Process 〽️**"
      ]
    },
    {
      "cell_type": "code",
      "source": [
        "cfg = MasterConfig(\n",
        "\n",
        "    data=DatasetConfig(\n",
        "        train_path='tokenized-train-samples_vocab-10k.pt',\n",
        "        valid_path='tokenized-valid-samples_vocab-10k.pt',\n",
        "        tokenizer_path='bpe-tokenizer_tinystories.json',\n",
        "        batch_size=192,\n",
        "        seq_len=128),\n",
        "\n",
        "    model=GPTConfig(\n",
        "        vocab_size=10_000,\n",
        "        max_seq_len=256,\n",
        "        n_layer=8,\n",
        "        n_head=16,\n",
        "        n_embd=128,\n",
        "        f_expnd=4),\n",
        "\n",
        "    optimizer=OptimizerConfig(\n",
        "        lr=6e-4,\n",
        "        betas=(0.9, 0.95),\n",
        "        weight_decay=0.1,\n",
        "        fused=True),\n",
        "\n",
        "    train=TrainConfig(\n",
        "        seed=42,\n",
        "        device='cuda',\n",
        "        total_tokens=450_000_000,\n",
        "        log_interval_tokens=10_000_000),\n",
        "\n",
        "    generation=GenerationConfig(\n",
        "        prompts=['In last'],\n",
        "        T=0.9,\n",
        "        max_seq_len=128,\n",
        "        top_k=10,\n",
        "        n_rep=3,\n",
        "        seed=42)\n",
        "    )"
      ],
      "metadata": {
        "colab": {
          "base_uri": "https://localhost:8080/",
          "height": 17
        },
        "id": "8oeA0tN819pD",
        "outputId": "2ab44045-20ee-49c2-f70a-b38662258b8a"
      },
      "execution_count": null,
      "outputs": [
        {
          "output_type": "display_data",
          "data": {
            "text/plain": [
              "<IPython.core.display.HTML object>"
            ],
            "text/html": [
              "<style>\n",
              "    body {\n",
              "      font-size: 24px;\n",
              "    }\n",
              "  "
            ]
          },
          "metadata": {}
        }
      ]
    },
    {
      "cell_type": "code",
      "source": [
        "# Set a manual seed for reproducibility across runs\n",
        "torch.manual_seed(cfg.train.seed)\n",
        "\n",
        "# Load pre-tokenized training and validation token IDs from disk\n",
        "train_token_ids = torch.load(cfg.data.train_path)\n",
        "valid_token_ids = torch.load(cfg.data.valid_path)\n",
        "\n",
        "print(\"📊 Number of Tokens\")\n",
        "print(f\"🔹 Train: {len(train_token_ids):,} tokens\")\n",
        "print(f\"🔹 Valid: {len(valid_token_ids):,} tokens\")\n",
        "print()\n",
        "\n",
        "\n",
        "# Create dataset instances with fixed-length sequences\n",
        "train_set = TinyStoriesDataset(train_token_ids, cfg.data.seq_len)\n",
        "valid_set = TinyStoriesDataset(valid_token_ids, cfg.data.seq_len)\n",
        "\n",
        "\n",
        "# Create DataLoaders for batching and shuffling during training\n",
        "train_loader = DataLoader(train_set, batch_size=cfg.data.batch_size, shuffle=True, pin_memory=True)\n",
        "valid_loader = DataLoader(valid_set, batch_size=cfg.data.batch_size, shuffle=False, pin_memory=True)\n",
        "\n",
        "print(f\"📊 Number of Batches\")\n",
        "print(f\"🔹 Train: {len(train_loader):,} batches\")\n",
        "print(f\"🔹 Valid: {len(valid_loader):,} batches\")"
      ],
      "metadata": {
        "id": "9FQ8l4rrK2nW",
        "colab": {
          "base_uri": "https://localhost:8080/",
          "height": 232
        },
        "outputId": "0665819d-cc3c-4cad-dc2f-6e6461511afa"
      },
      "execution_count": null,
      "outputs": [
        {
          "output_type": "display_data",
          "data": {
            "text/plain": [
              "<IPython.core.display.HTML object>"
            ],
            "text/html": [
              "<style>\n",
              "    body {\n",
              "      font-size: 24px;\n",
              "    }\n",
              "  "
            ]
          },
          "metadata": {}
        },
        {
          "output_type": "stream",
          "name": "stdout",
          "text": [
            "📊 Number of Tokens\n",
            "🔹 Train: 464,965,814 tokens\n",
            "🔹 Valid: 4,673,588 tokens\n",
            "\n",
            "📊 Number of Batches\n",
            "🔹 Train: 18,773 batches\n",
            "🔹 Valid: 189 batches\n"
          ]
        }
      ]
    },
    {
      "cell_type": "code",
      "source": [
        "tokenizer = Tokenizer.from_file(cfg.data.tokenizer_path)"
      ],
      "metadata": {
        "colab": {
          "base_uri": "https://localhost:8080/",
          "height": 17
        },
        "id": "xpsiToA77Vex",
        "outputId": "0d959211-ce35-4447-f0d9-df497d11f1cd"
      },
      "execution_count": null,
      "outputs": [
        {
          "output_type": "display_data",
          "data": {
            "text/plain": [
              "<IPython.core.display.HTML object>"
            ],
            "text/html": [
              "<style>\n",
              "    body {\n",
              "      font-size: 24px;\n",
              "    }\n",
              "  "
            ]
          },
          "metadata": {}
        }
      ]
    },
    {
      "cell_type": "code",
      "source": [
        "model = GPT(cfg.model).to(cfg.train.device)\n",
        "\n",
        "print(model)\n",
        "print(f\"\\n📊 Number of Parameters: {num_trainable_params(model):.2f}M\")"
      ],
      "metadata": {
        "id": "i7zJv8yJEBLl",
        "collapsed": true,
        "colab": {
          "base_uri": "https://localhost:8080/",
          "height": 694
        },
        "outputId": "6d64671e-0ea0-4719-e2e0-261d3a8adc64"
      },
      "execution_count": null,
      "outputs": [
        {
          "output_type": "display_data",
          "data": {
            "text/plain": [
              "<IPython.core.display.HTML object>"
            ],
            "text/html": [
              "<style>\n",
              "    body {\n",
              "      font-size: 24px;\n",
              "    }\n",
              "  "
            ]
          },
          "metadata": {}
        },
        {
          "output_type": "stream",
          "name": "stdout",
          "text": [
            "GPT(\n",
            "  (wte): Embedding(10000, 128)\n",
            "  (wpe): Embedding(256, 128)\n",
            "  (decoders): ModuleList(\n",
            "    (0-7): 8 x DecoderBlock(\n",
            "      (ln1): LayerNorm((128,), eps=1e-05, elementwise_affine=True)\n",
            "      (mha): MultiHeadAttention(\n",
            "        (qkv_proj): Linear(in_features=128, out_features=384, bias=False)\n",
            "        (c_proj): Linear(in_features=128, out_features=128, bias=False)\n",
            "      )\n",
            "      (ln2): LayerNorm((128,), eps=1e-05, elementwise_affine=True)\n",
            "      (mlp): FeedForward(\n",
            "        (up_proj): Linear(in_features=128, out_features=512, bias=False)\n",
            "        (down_proj): Linear(in_features=512, out_features=128, bias=False)\n",
            "      )\n",
            "    )\n",
            "  )\n",
            "  (lnf): LayerNorm((128,), eps=1e-05, elementwise_affine=True)\n",
            "  (lm_head): Linear(in_features=128, out_features=10000, bias=False)\n",
            ")\n",
            "\n",
            "📊 Number of Parameters: 2.89M\n"
          ]
        }
      ]
    },
    {
      "cell_type": "code",
      "execution_count": null,
      "metadata": {
        "id": "ketNqGoLsK2U",
        "collapsed": true,
        "colab": {
          "base_uri": "https://localhost:8080/",
          "height": 17
        },
        "outputId": "1028ac25-7e4a-4c90-d3b4-b209a0311b0a"
      },
      "outputs": [
        {
          "output_type": "display_data",
          "data": {
            "text/plain": [
              "<IPython.core.display.HTML object>"
            ],
            "text/html": [
              "<style>\n",
              "    body {\n",
              "      font-size: 24px;\n",
              "    }\n",
              "  "
            ]
          },
          "metadata": {}
        }
      ],
      "source": [
        "optimizer = torch.optim.AdamW(\n",
        "    model.parameters(),\n",
        "    lr=cfg.optimizer.lr,\n",
        "    betas=cfg.optimizer.betas,\n",
        "    weight_decay=cfg.optimizer.weight_decay,\n",
        "    fused=cfg.optimizer.fused\n",
        "    )"
      ]
    },
    {
      "cell_type": "code",
      "source": [
        "trainer = LLMTrainer(\n",
        "    model, optimizer, train_loader, valid_loader, tokenizer,\n",
        "    total_tokens=cfg.train.total_tokens, log_interval_tokens=cfg.train.log_interval_tokens,\n",
        "    generation=cfg.generation)"
      ],
      "metadata": {
        "colab": {
          "base_uri": "https://localhost:8080/",
          "height": 448
        },
        "id": "JMG2LHw6x4Rg",
        "outputId": "3cd2034c-cdb3-4909-91c0-80c61689ce6b"
      },
      "execution_count": null,
      "outputs": [
        {
          "output_type": "display_data",
          "data": {
            "text/plain": [
              "<IPython.core.display.HTML object>"
            ],
            "text/html": [
              "<style>\n",
              "    body {\n",
              "      font-size: 24px;\n",
              "    }\n",
              "  "
            ]
          },
          "metadata": {}
        },
        {
          "output_type": "stream",
          "name": "stdout",
          "text": [
            "+----------------------------------------------------------------------------------------------------------------+\n",
            "|                                         Training Configuration Summary                                         |\n",
            "+--------------------------+-------------------------------------------------------------------------------------+\n",
            "|        Component         |                                       Details                                       |\n",
            "+--------------------------+-------------------------------------------------------------------------------------+\n",
            "|        Model Type        | GPT(vocab_size=10000, max_seq_len=256, n_layer=8, n_head=16, n_embd=128, f_expnd=4) |\n",
            "|        Optimizer         |          AdamW(lr=0.0006, betas=(0.9, 0.95), weight_decay=0.1, fused=True)          |\n",
            "| Total Parameters (Tr+TE) |                           2,889,984 (1,609,984+1,280,000)                           |\n",
            "|      Loss Function       |                                    cross_entropy                                    |\n",
            "|       Batch Shape        |                                       192x128                                       |\n",
            "|          Device          |                                         cuda                                        |\n",
            "|        Max Tokens        |                                     450,000,000                                     |\n",
            "|   Log Interval Tokens    |                                      10,000,000                                     |\n",
            "+--------------------------+-------------------------------------------------------------------------------------+\n"
          ]
        }
      ]
    },
    {
      "cell_type": "code",
      "source": [
        "trainer.train()"
      ],
      "metadata": {
        "colab": {
          "base_uri": "https://localhost:8080/",
          "height": 1000
        },
        "id": "4_N1nGVk7mtH",
        "outputId": "bb05a554-4628-4e8b-9bb3-93ffd78ee1b5"
      },
      "execution_count": null,
      "outputs": [
        {
          "output_type": "display_data",
          "data": {
            "text/plain": [
              "<IPython.core.display.HTML object>"
            ],
            "text/html": [
              "<style>\n",
              "    body {\n",
              "      font-size: 24px;\n",
              "    }\n",
              "  "
            ]
          },
          "metadata": {}
        },
        {
          "output_type": "stream",
          "name": "stderr",
          "text": [
            "C:\\Users\\Howsam\\AppData\\Local\\Temp\\ipykernel_10500\\2308121339.py:18: UserWarning: 1Torch was not compiled with flash attention. (Triggered internally at C:\\cb\\pytorch_1000000000000\\work\\aten\\src\\ATen\\native\\transformers\\cuda\\sdp_utils.cpp:455.)\n",
            "  y = F.scaled_dot_product_attention(q, k, v, is_causal=True)\n"
          ]
        },
        {
          "output_type": "stream",
          "name": "stdout",
          "text": [
            "👶 [Initial] Train Loss (Untrained Model): 9.2379\n",
            "\n"
          ]
        },
        {
          "output_type": "stream",
          "name": "stderr",
          "text": [
            "Training:   2%|▍                   | 10002432/450000000 [01:06<48:39, 150686.67t/s, B/S=6.10, Loss=4.3635, LR=6.00e-04]"
          ]
        },
        {
          "output_type": "stream",
          "name": "stdout",
          "text": [
            "\n",
            "Valid Loss: 3.3854\n",
            "✅ Model Saved!\n"
          ]
        },
        {
          "output_type": "stream",
          "name": "stderr",
          "text": [
            "Training:   2%|▍                  | 10027008/450000000 [01:18<17:38:51, 6925.29t/s, B/S=5.44, Loss=4.3611, LR=6.00e-04]"
          ]
        },
        {
          "output_type": "stream",
          "name": "stdout",
          "text": [
            "\u001b[32m\n",
            "In last\u001b[0m \u001b[36m time, \"I don't wait?\"\n",
            "\n",
            "The man was playing in the park to play outside, he was scared, but the girl was so fast and he couldn't worry. She was playing with his friend, but he wanted to play in the park.\n",
            "\n",
            "The little girl was excited. She was very happy and she found an adventure. She smiled and started to play. But, her friends said, \"Yes, I will be careful when you have to play!\" They played outside and went home. Then, the bird came back. The dog was very much fun and they were playing with the best friends\u001b[0m\n",
            "\n"
          ]
        },
        {
          "output_type": "stream",
          "name": "stderr",
          "text": [
            "Training:   4%|▉                   | 20004864/450000000 [02:23<46:45, 153253.08t/s, B/S=6.22, Loss=3.7369, LR=6.00e-04]"
          ]
        },
        {
          "output_type": "stream",
          "name": "stdout",
          "text": [
            "\n",
            "Valid Loss: 2.9121\n",
            "✅ Model Saved!\n"
          ]
        },
        {
          "output_type": "stream",
          "name": "stderr",
          "text": [
            "Training:   4%|▊                  | 20029440/450000000 [02:34<16:56:56, 7046.81t/s, B/S=6.39, Loss=3.7358, LR=6.00e-04]"
          ]
        },
        {
          "output_type": "stream",
          "name": "stdout",
          "text": [
            "\u001b[32m\n",
            "In last\u001b[0m \u001b[36m, there was a big, little girl named Lily. She was a curious dog. Lily loved to run and play outside. One day, she found a big, little girl named Lily. She ran to it and asked her friends, \"What's wrong?\" Her mommy said, \"I'm trying to get it for you.\"\n",
            "\n",
            "Later that day, Lily asked, \"I want to be friends.\" But she told her mom, \"I will give you to the doctor!\" her mommy said, \"No, sweetie, I need you a special toy and I will take your friend for you to play.\"\n",
            "\n",
            "\u001b[0m\n",
            "\n"
          ]
        },
        {
          "output_type": "stream",
          "name": "stderr",
          "text": [
            "Training:   7%|█▎                  | 30007296/450000000 [03:40<45:33, 153631.25t/s, B/S=6.21, Loss=3.4167, LR=6.00e-04]"
          ]
        },
        {
          "output_type": "stream",
          "name": "stdout",
          "text": [
            "\n",
            "Valid Loss: 2.6710\n"
          ]
        },
        {
          "output_type": "stream",
          "name": "stderr",
          "text": [
            "\rTraining:   7%|█▎                  | 30007296/450000000 [03:50<45:33, 153631.25t/s, B/S=6.21, Loss=3.4167, LR=6.00e-04]"
          ]
        },
        {
          "output_type": "stream",
          "name": "stdout",
          "text": [
            "✅ Model Saved!\n"
          ]
        },
        {
          "output_type": "stream",
          "name": "stderr",
          "text": [
            "Training:   7%|█▎                 | 30031872/450000000 [03:50<15:57:22, 7311.06t/s, B/S=6.38, Loss=3.4161, LR=6.00e-04]"
          ]
        },
        {
          "output_type": "stream",
          "name": "stdout",
          "text": [
            "\u001b[32m\n",
            "In last\u001b[0m \u001b[36m, there was a boy named Sam. He loved to play outside. One day, his mom gave him a big piece of water and a big bite. Tom was sad and wanted to touch the bird. His mom said, \"Timmy, you need to be careful and not to get you.\" Max felt happy and asked, \"Can I come back to the bird?\" His mom said, \"Sure, it can go!\" They went to the tree and went down.\n",
            "\n",
            "Later, a kind little girl saw the bird who was very curious and decided to help her. She took the stick and put it in the tree\u001b[0m\n",
            "\n"
          ]
        },
        {
          "output_type": "stream",
          "name": "stderr",
          "text": [
            "Training:   9%|█▊                  | 40009728/450000000 [04:56<45:08, 151371.36t/s, B/S=6.20, Loss=3.2095, LR=6.00e-04]"
          ]
        },
        {
          "output_type": "stream",
          "name": "stdout",
          "text": [
            "\n",
            "Valid Loss: 2.5216\n",
            "✅ Model Saved!\n"
          ]
        },
        {
          "output_type": "stream",
          "name": "stderr",
          "text": [
            "Training:   9%|█▋                 | 40034304/450000000 [05:06<15:00:44, 7585.67t/s, B/S=6.40, Loss=3.2091, LR=6.00e-04]"
          ]
        },
        {
          "output_type": "stream",
          "name": "stdout",
          "text": [
            "\u001b[32m\n",
            "In last\u001b[0m \u001b[36m, there was a big, dark tree. The tree was big and it made a happy sound.\n",
            "\n",
            "One day, a big tree in a deep tree. The tree was very hungry. It went up to the tree and took away the leaves. The tree was very sad.\n",
            "\n",
            "One day, a little bird saw a big tree. It had fallen from the tree and hurt its wing. The nest was scared, but it did not know that it could not be lost. The bird decided to find a little bird to help.\n",
            "\n",
            "The bird flew away to help the squirrel. He was happy to have\u001b[0m\n",
            "\n"
          ]
        },
        {
          "output_type": "stream",
          "name": "stderr",
          "text": [
            "Training:  11%|██▏                 | 50012160/450000000 [06:12<43:58, 151586.49t/s, B/S=6.20, Loss=3.0607, LR=6.00e-04]"
          ]
        },
        {
          "output_type": "stream",
          "name": "stdout",
          "text": [
            "\n",
            "Valid Loss: 2.4205\n",
            "✅ Model Saved!\n"
          ]
        },
        {
          "output_type": "stream",
          "name": "stderr",
          "text": [
            "Training:  11%|██                 | 50036736/450000000 [06:22<14:43:21, 7546.30t/s, B/S=6.38, Loss=3.0604, LR=6.00e-04]"
          ]
        },
        {
          "output_type": "stream",
          "name": "stdout",
          "text": [
            "\u001b[32m\n",
            "In last\u001b[0m \u001b[36m, there was a big, brown bear. He was only three years old. He had a bright red bear. \n",
            "\n",
            "One day, the bear noticed that the bear was looking for a special look. It was a big, soft blanket. \n",
            "\n",
            "The bear wanted to keep the blanket so they wouldn't get wet. He wanted to pick it up and play with it. So the bear decided to keep his coat safe, so he kept it safe when he could play.\n",
            "\n",
            "He ran outside to the garden, feeling happy and happy! When he got to his blanket, he found a beautiful blanket. He opened\u001b[0m\n",
            "\n"
          ]
        },
        {
          "output_type": "stream",
          "name": "stderr",
          "text": [
            "Training:  13%|██▋                 | 60014592/450000000 [07:28<42:57, 151314.80t/s, B/S=6.19, Loss=2.9474, LR=6.00e-04]"
          ]
        },
        {
          "output_type": "stream",
          "name": "stdout",
          "text": [
            "\n",
            "Valid Loss: 2.3450\n",
            "✅ Model Saved!\n"
          ]
        },
        {
          "output_type": "stream",
          "name": "stderr",
          "text": [
            "Training:  13%|██▌                | 60039168/450000000 [07:38<14:16:55, 7584.51t/s, B/S=6.38, Loss=2.9472, LR=6.00e-04]"
          ]
        },
        {
          "output_type": "stream",
          "name": "stdout",
          "text": [
            "\u001b[32m\n",
            "In last\u001b[0m \u001b[36m, there was a big, tall tree. Inside the tree was a big red ball, a shiny ball. The ball had a lot of fun on it.\n",
            "\n",
            "One day, the ball decided to race. The ball had never taken the ball. It was a big, red ball. So, the ball wanted to race with the ball.\n",
            "\n",
            "They got into the park. They were happy.\n",
            "\n",
            "When it was time to go home, the ball was still happy. They were very proud. They learned a lesson that day, because it's important to do not matter if they play with.Once\u001b[0m\n",
            "\n"
          ]
        },
        {
          "output_type": "stream",
          "name": "stderr",
          "text": [
            "Training:  16%|███                 | 70017024/450000000 [08:44<41:58, 150851.73t/s, B/S=6.20, Loss=2.8576, LR=6.00e-04]"
          ]
        },
        {
          "output_type": "stream",
          "name": "stdout",
          "text": [
            "\n",
            "Valid Loss: 2.2949\n",
            "✅ Model Saved!\n"
          ]
        },
        {
          "output_type": "stream",
          "name": "stderr",
          "text": [
            "Training:  16%|██▉                | 70041600/450000000 [08:55<14:33:58, 7245.74t/s, B/S=6.50, Loss=2.8574, LR=6.00e-04]"
          ]
        },
        {
          "output_type": "stream",
          "name": "stdout",
          "text": [
            "\u001b[32m\n",
            "In last\u001b[0m \u001b[36m, there was a big, green bunny. He was very excited to try. He went to take his own toy car outside.\n",
            "\n",
            "He went to play with his friends. He put the cars down in the air and started to spin around. He was so fast! He was so fast it made a lot of noise!\n",
            "\n",
            "When his friends were both so tired, they decided to try one day. He started running around the park. He had so much fun playing, even when he was running!\n",
            "\n",
            "At the end of his adventure, he was so proud that he ran to the park. He had\u001b[0m\n",
            "\n"
          ]
        },
        {
          "output_type": "stream",
          "name": "stderr",
          "text": [
            "Training:  18%|███▌                | 80019456/450000000 [10:00<38:48, 158883.14t/s, B/S=6.26, Loss=2.7846, LR=6.00e-04]"
          ]
        },
        {
          "output_type": "stream",
          "name": "stdout",
          "text": [
            "\n",
            "Valid Loss: 2.2579\n",
            "✅ Model Saved!\n"
          ]
        },
        {
          "output_type": "stream",
          "name": "stderr",
          "text": [
            "Training:  18%|███▍               | 80044032/450000000 [10:10<13:50:20, 7425.81t/s, B/S=6.76, Loss=2.7845, LR=6.00e-04]"
          ]
        },
        {
          "output_type": "stream",
          "name": "stdout",
          "text": [
            "\u001b[32m\n",
            "In last\u001b[0m \u001b[36m, there was a big, round bug. It was very strong and it wanted to be free. One day, a little girl named Lily saw a caterpillar crawling on a leaf. She knew it might be dangerous, so she ran closer to the leaf.\n",
            "\n",
            "\"Hello, bug!\" Lily yelled. \"What are you doing?\"\n",
            "\n",
            "The bug looked at Lily and smiled. It had an idea. She wanted to try and see if she could touch the caterpillar.\n",
            "\n",
            "Lily reached out her hands and touched the caterpillar. \"Hello, caterpillar!\" she said. She reached out her hand and touched the caterpillar.\u001b[0m\n",
            "\n"
          ]
        },
        {
          "output_type": "stream",
          "name": "stderr",
          "text": [
            "Training:  20%|████                | 90021888/450000000 [11:13<37:36, 159553.24t/s, B/S=6.47, Loss=2.7236, LR=6.00e-04]"
          ]
        },
        {
          "output_type": "stream",
          "name": "stdout",
          "text": [
            "\n",
            "Valid Loss: 2.2227\n",
            "✅ Model Saved!\n"
          ]
        },
        {
          "output_type": "stream",
          "name": "stderr",
          "text": [
            "Training:  20%|███▊               | 90046464/450000000 [11:23<12:49:07, 7800.07t/s, B/S=6.66, Loss=2.7234, LR=6.00e-04]"
          ]
        },
        {
          "output_type": "stream",
          "name": "stdout",
          "text": [
            "\u001b[32m\n",
            "In last\u001b[0m \u001b[36m, there was a boy named Joe. Joe was very naughty. He loved to play all day.\n",
            "\n",
            "One day, Joe's mom asked Joe to go to the park. Joe was so excited, because he was going to help her. Joe was so excited to go to the park. When he saw the park, he saw a girl playing with a ball. She wanted to play with him too, so he grabbed a ball and started to fight over it.\n",
            "\n",
            "Joe was so upset, but Joe was kind. He had to help the girl play with him when they wanted a ball. Joe was very happy\u001b[0m\n",
            "\n"
          ]
        },
        {
          "output_type": "stream",
          "name": "stderr",
          "text": [
            "Training:  22%|████▏              | 100024320/450000000 [12:26<36:11, 161171.91t/s, B/S=6.43, Loss=2.6719, LR=6.00e-04]"
          ]
        },
        {
          "output_type": "stream",
          "name": "stdout",
          "text": [
            "\n",
            "Valid Loss: 2.1990\n",
            "✅ Model Saved!\n"
          ]
        },
        {
          "output_type": "stream",
          "name": "stderr",
          "text": [
            "Training:  22%|████              | 100048896/450000000 [12:36<12:14:23, 7941.95t/s, B/S=6.70, Loss=2.6718, LR=6.00e-04]"
          ]
        },
        {
          "output_type": "stream",
          "name": "stdout",
          "text": [
            "\u001b[32m\n",
            "In last\u001b[0m \u001b[36m, there was a big, old man who had a big smile on his face. The old man wanted to help people with the old man's things. The old man showed the old man how to get to work. The old man showed the children how to help him. The old man was excited and asked the old man if he could help. The old man smiled and said yes. He worked hard on it, and he was able to make the children happy.\n",
            "\n",
            "Everyone was so happy! The old man felt like he was helping. The old man was proud. They all lived happily in the village. The\u001b[0m\n",
            "\n"
          ]
        },
        {
          "output_type": "stream",
          "name": "stderr",
          "text": [
            "Training:  24%|████▋              | 110026752/450000000 [13:39<35:54, 157819.94t/s, B/S=6.45, Loss=2.6277, LR=6.00e-04]"
          ]
        },
        {
          "output_type": "stream",
          "name": "stdout",
          "text": [
            "\n",
            "Valid Loss: 2.1757\n",
            "✅ Model Saved!\n"
          ]
        },
        {
          "output_type": "stream",
          "name": "stderr",
          "text": [
            "Training:  24%|████▍             | 110051328/450000000 [13:49<11:57:28, 7896.93t/s, B/S=6.69, Loss=2.6276, LR=6.00e-04]"
          ]
        },
        {
          "output_type": "stream",
          "name": "stdout",
          "text": [
            "\u001b[32m\n",
            "In last\u001b[0m \u001b[36m time, there was an old man who had a big mustache. He was always looking for something new, so he wanted to find something special. He saw a picture of a man sitting on a chair and it was a big smile. Little Jack was so excited. He wanted to know what the painting looked like. He asked his mom if he could go. His mom said yes, and the man carefully picked it up. \n",
            "\n",
            "Jack was so excited and he ran to the building. It was a beautiful painting. Suddenly, the sky turned bright and the wind was blowing and the paint got bigger and bigger. Jack was\u001b[0m\n",
            "\n"
          ]
        },
        {
          "output_type": "stream",
          "name": "stderr",
          "text": [
            "Training:  27%|█████              | 120029184/450000000 [14:52<34:14, 160580.10t/s, B/S=6.46, Loss=2.5890, LR=6.00e-04]"
          ]
        },
        {
          "output_type": "stream",
          "name": "stdout",
          "text": [
            "\n",
            "Valid Loss: 2.1563\n",
            "✅ Model Saved!\n"
          ]
        },
        {
          "output_type": "stream",
          "name": "stderr",
          "text": [
            "Training:  27%|████▊             | 120053760/450000000 [15:02<11:42:53, 7823.46t/s, B/S=6.67, Loss=2.5889, LR=6.00e-04]"
          ]
        },
        {
          "output_type": "stream",
          "name": "stdout",
          "text": [
            "\u001b[32m\n",
            "In last\u001b[0m \u001b[36m, there was a big, shiny truck. It was a very nice truck because it had a nice handle. The truck drove around and around. The truck had a big, strong car. It made all of the cars go around and it was the best drive ever!\n",
            "\n",
            "One day, someone saw what was happening. It was a new car that was so special. It had a long red seat. A little boy wanted to play with the car for a long time. He said, \"Please don't be in time. I don't need to go to the driver.\"\n",
            "\n",
            "The little boy was sad,\u001b[0m\n",
            "\n"
          ]
        },
        {
          "output_type": "stream",
          "name": "stderr",
          "text": [
            "Training:  29%|█████▍             | 130031616/450000000 [16:05<33:11, 160706.66t/s, B/S=6.45, Loss=2.5549, LR=6.00e-04]"
          ]
        },
        {
          "output_type": "stream",
          "name": "stdout",
          "text": [
            "\n",
            "Valid Loss: 2.1423\n",
            "✅ Model Saved!\n"
          ]
        },
        {
          "output_type": "stream",
          "name": "stderr",
          "text": [
            "Training:  29%|█████▏            | 130056192/450000000 [16:15<11:25:18, 7781.01t/s, B/S=6.55, Loss=2.5548, LR=6.00e-04]"
          ]
        },
        {
          "output_type": "stream",
          "name": "stdout",
          "text": [
            "\u001b[32m\n",
            "In last\u001b[0m \u001b[36m, there was a big, shiny thing. It was a shiny, blue gem. One day, a bird came by and saw the gem. It was a special gem. The bird wanted to be part of the gem, so it asked the bird, \"Can I have it?\"\n",
            "\n",
            "The bird replied, \"No, you can't have it. It belongs to me.\"\n",
            "\n",
            "The bird said, \"That gem is mine. I need a special gift for you.\"\n",
            "\n",
            "The bird thought about it for a moment and said, \"I don't have one to give to you. I can't believe\u001b[0m\n",
            "\n"
          ]
        },
        {
          "output_type": "stream",
          "name": "stderr",
          "text": [
            "Training:  31%|█████▉             | 140034048/450000000 [17:19<33:51, 152611.47t/s, B/S=6.34, Loss=2.5245, LR=6.00e-04]"
          ]
        },
        {
          "output_type": "stream",
          "name": "stdout",
          "text": [
            "\n",
            "Valid Loss: 2.1261\n",
            "✅ Model Saved!\n"
          ]
        },
        {
          "output_type": "stream",
          "name": "stderr",
          "text": [
            "Training:  31%|█████▌            | 140058624/450000000 [17:30<11:35:18, 7429.39t/s, B/S=6.38, Loss=2.5245, LR=6.00e-04]"
          ]
        },
        {
          "output_type": "stream",
          "name": "stdout",
          "text": [
            "\u001b[32m\n",
            "In last\u001b[0m \u001b[36m, there was a big, fat bunny named Benny. Benny loved to hop, but it was so hard to hop and eat. He tried to jump in, but he couldn't. Suddenly, a strong voice came from behind him. Benny was very scared and didn't know what to do. His friends tried to help him, but they all flew away.\n",
            "\n",
            "But then, a wise old owl saw them and offered to help. He told them about the wise owl and knew the wise words in his burrow. Benny's friends were happy to hear him and they all lived happily ever after. The moral of the story\u001b[0m\n",
            "\n"
          ]
        },
        {
          "output_type": "stream",
          "name": "stderr",
          "text": [
            "Training:  33%|██████▎            | 150036480/450000000 [18:36<33:04, 151190.30t/s, B/S=6.15, Loss=2.4974, LR=6.00e-04]"
          ]
        },
        {
          "output_type": "stream",
          "name": "stdout",
          "text": [
            "\n",
            "Valid Loss: 2.1143\n",
            "✅ Model Saved!\n"
          ]
        },
        {
          "output_type": "stream",
          "name": "stderr",
          "text": [
            "Training:  33%|██████            | 150061056/450000000 [18:47<11:18:24, 7368.76t/s, B/S=6.49, Loss=2.4973, LR=6.00e-04]"
          ]
        },
        {
          "output_type": "stream",
          "name": "stdout",
          "text": [
            "\u001b[32m\n",
            "In last\u001b[0m \u001b[36m, there was a big, shiny star. It was very big and pretty. It had a very pretty, shiny, shiny star on it.\n",
            "\n",
            "One day, a boy named Tim came along. The star was very high. \"Wow! Look at this star!\" Tim said. \"Look, I can't see it!\"\n",
            "\n",
            "Tim showed the star to the star. The star had many colors on it. \"Wow, it is so good!\" Tim said. But then, they heard a voice.\n",
            "\n",
            "\"A star, say you did a star. The star can fly,\" the star said.\u001b[0m\n",
            "\n"
          ]
        },
        {
          "output_type": "stream",
          "name": "stderr",
          "text": [
            "Training:  36%|██████▊            | 160038912/450000000 [19:53<32:13, 149950.78t/s, B/S=6.14, Loss=2.4729, LR=6.00e-04]"
          ]
        },
        {
          "output_type": "stream",
          "name": "stdout",
          "text": [
            "\n",
            "Valid Loss: 2.1052\n",
            "✅ Model Saved!\n"
          ]
        },
        {
          "output_type": "stream",
          "name": "stderr",
          "text": [
            "Training:  36%|██████▍           | 160063488/450000000 [20:04<10:57:37, 7348.03t/s, B/S=6.33, Loss=2.4728, LR=6.00e-04]"
          ]
        },
        {
          "output_type": "stream",
          "name": "stdout",
          "text": [
            "\u001b[32m\n",
            "In last\u001b[0m \u001b[36m, there was a big, shiny object. It was so shiny and colorful in the sunlight. But the object was still in the sky, it could not move. It was very different - it felt like the one was there for its friend. It was so cold, it was so cold and so cold that it didn't want to leave.\n",
            "\n",
            "But then the next day, something unexpected happened. The light started to rain and the light was so big that it started to blow even more. The light made the creature look so happy.\n",
            "\n",
            "The animal was so thankful. It felt so happy that it had been\u001b[0m\n",
            "\n"
          ]
        },
        {
          "output_type": "stream",
          "name": "stderr",
          "text": [
            "Training:  38%|███████▏           | 170041344/450000000 [21:10<30:56, 150812.54t/s, B/S=6.13, Loss=2.4508, LR=6.00e-04]"
          ]
        },
        {
          "output_type": "stream",
          "name": "stdout",
          "text": [
            "\n",
            "Valid Loss: 2.0945\n",
            "✅ Model Saved!\n"
          ]
        },
        {
          "output_type": "stream",
          "name": "stderr",
          "text": [
            "Training:  38%|██████▊           | 170065920/450000000 [21:21<10:42:14, 7264.57t/s, B/S=6.75, Loss=2.4507, LR=6.00e-04]"
          ]
        },
        {
          "output_type": "stream",
          "name": "stdout",
          "text": [
            "\u001b[32m\n",
            "In last\u001b[0m \u001b[36m, there was a big, shiny object. It was a big, shiny metal box with a long lid. The box was very special. It was red and had a picture of a rainbow on the lid.\n",
            "\n",
            "One day, two friends decided to go on a trip to the beach. While they were walking, they saw a big ship in the distance. It was very big and very shiny and they couldn't stop looking.\n",
            "\n",
            "The friends ran to the ship and they saw that it was very old. The ship was very old, with a little bit of heavy wheels and doors. They were very happy and\u001b[0m\n",
            "\n"
          ]
        },
        {
          "output_type": "stream",
          "name": "stderr",
          "text": [
            "Training:  40%|███████▌           | 180043776/450000000 [22:21<27:06, 166023.55t/s, B/S=6.71, Loss=2.4306, LR=6.00e-04]"
          ]
        },
        {
          "output_type": "stream",
          "name": "stdout",
          "text": [
            "\n",
            "Valid Loss: 2.0826\n",
            "✅ Model Saved!\n"
          ]
        },
        {
          "output_type": "stream",
          "name": "stderr",
          "text": [
            "Training:  40%|███████▏          | 180068352/450000000 [22:32<10:23:24, 7216.62t/s, B/S=6.72, Loss=2.4306, LR=6.00e-04]"
          ]
        },
        {
          "output_type": "stream",
          "name": "stdout",
          "text": [
            "\u001b[32m\n",
            "In last\u001b[0m \u001b[36m, there was a big, beautiful castle. It was very pretty and colorful. Everyone who saw the castle was very proud of it. They were so happy and excited.\n",
            "\n",
            "One day, the castle had a big, bright blue flag. The people in the castle wanted to see it. Everyone in the castle said, \"Wow, you look very pretty!\" They all laughed and said, \"Thank you! Can we keep it?\"\n",
            "\n",
            "The flag was very happy and let it go. It was so pretty that everyone wanted to keep it forever. But then, it accidentally broke into a big, mean monster!\u001b[0m\n",
            "\n"
          ]
        },
        {
          "output_type": "stream",
          "name": "stderr",
          "text": [
            "Training:  42%|████████           | 190046208/450000000 [23:35<27:54, 155284.86t/s, B/S=6.42, Loss=2.4121, LR=6.00e-04]"
          ]
        },
        {
          "output_type": "stream",
          "name": "stdout",
          "text": [
            "\n",
            "Valid Loss: 2.0786\n",
            "✅ Model Saved!\n"
          ]
        },
        {
          "output_type": "stream",
          "name": "stderr",
          "text": [
            "Training:  42%|████████           | 190070784/450000000 [23:46<9:25:13, 7664.45t/s, B/S=6.38, Loss=2.4120, LR=6.00e-04]"
          ]
        },
        {
          "output_type": "stream",
          "name": "stdout",
          "text": [
            "\u001b[32m\n",
            "In last\u001b[0m \u001b[36m, there was a big, beautiful, shiny, golden bell. She was happy and wore her shiny hat. She would play with her friends and play on the swings.\n",
            "\n",
            "One day, the pretty girl's friend, Tom, told her that she was going on a trip. She was not so far away. She said, \"Let's go to the airport and see the big blue station. We are going on the big train. We can be very excited.\"\n",
            "\n",
            "Tom and Lily did not like the fun time. They wanted to go on the train. They saw a long line of people. They did\u001b[0m\n",
            "\n"
          ]
        },
        {
          "output_type": "stream",
          "name": "stderr",
          "text": [
            "Training:  44%|████████▍          | 200048640/450000000 [24:49<26:19, 158290.36t/s, B/S=6.45, Loss=2.3949, LR=6.00e-04]"
          ]
        },
        {
          "output_type": "stream",
          "name": "stdout",
          "text": [
            "\n",
            "Valid Loss: 2.0694\n",
            "✅ Model Saved!\n"
          ]
        },
        {
          "output_type": "stream",
          "name": "stderr",
          "text": [
            "Training:  44%|████████▍          | 200073216/450000000 [24:59<8:50:57, 7845.05t/s, B/S=6.72, Loss=2.3949, LR=6.00e-04]"
          ]
        },
        {
          "output_type": "stream",
          "name": "stdout",
          "text": [
            "\u001b[32m\n",
            "In last\u001b[0m \u001b[36m, there was a big, white bunny named Floppy. Floppy loved to play all day, but he never stopped his ball. He would run and play with the ball, but he still liked to go there and play.\n",
            "\n",
            "One day, Floppy saw a big, red ball. He wanted to play with it, but he was too scared to go. He thought his ball was too far and he wanted to run away. So, he ran to his friend, a little dog named Max. Max saw that Floppy was hiding under a big tree.\n",
            "\n",
            "\"Hi there! Do you want to play with me?\"\u001b[0m\n",
            "\n"
          ]
        },
        {
          "output_type": "stream",
          "name": "stderr",
          "text": [
            "Training:  47%|████████▊          | 210051072/450000000 [26:02<25:49, 154904.46t/s, B/S=6.36, Loss=2.3791, LR=6.00e-04]"
          ]
        },
        {
          "output_type": "stream",
          "name": "stdout",
          "text": [
            "\n",
            "Valid Loss: 2.0625\n",
            "✅ Model Saved!\n"
          ]
        },
        {
          "output_type": "stream",
          "name": "stderr",
          "text": [
            "Training:  47%|████████▊          | 210075648/450000000 [26:13<8:40:00, 7689.68t/s, B/S=6.72, Loss=2.3791, LR=6.00e-04]"
          ]
        },
        {
          "output_type": "stream",
          "name": "stdout",
          "text": [
            "\u001b[32m\n",
            "In last\u001b[0m \u001b[36m, there was a big, strong cat named Whiskers. Whiskers loved to play hide and seek with his friend, a little bird named Timmy.\n",
            "\n",
            "One day, Whiskers went to the park to play. While he was playing, he started to sneeze. Timmy's mom came to him and said, \"Don't worry, Whiskers. I am not a baby. I am just a little baby. Let's find another toy that we can eat.\"\n",
            "\n",
            "So, they went to the park and found some other toys to play with. Whiskers and Mittens played together and had fun. They played all day and had lots of\u001b[0m\n",
            "\n"
          ]
        },
        {
          "output_type": "stream",
          "name": "stderr",
          "text": [
            "Training:  49%|█████████▎         | 220053504/450000000 [27:17<27:44, 138163.50t/s, B/S=6.34, Loss=2.3645, LR=6.00e-04]"
          ]
        },
        {
          "output_type": "stream",
          "name": "stdout",
          "text": [
            "\n",
            "Valid Loss: 2.0571\n",
            "✅ Model Saved!\n"
          ]
        },
        {
          "output_type": "stream",
          "name": "stderr",
          "text": [
            "Training:  49%|█████████▎         | 220078080/450000000 [27:27<8:33:11, 7467.04t/s, B/S=6.76, Loss=2.3644, LR=6.00e-04]"
          ]
        },
        {
          "output_type": "stream",
          "name": "stdout",
          "text": [
            "\u001b[32m\n",
            "In last\u001b[0m \u001b[36m, the two friends went to the park. They liked to play tag and have fun. The game was full of fun, and they ran around in the sunshine.\n",
            "\n",
            "At the end of the day, the two friends had a new game. They played tag, ran and laughed and laughed until their mom called them for lunch.\n",
            "\n",
            "The next day, the best friends were at the park, when a big storm appeared. The sun was shining in the sky and the children got very thirsty.\n",
            "\n",
            "The boys and the other friends had an idea. They all got out a towel and started to play. They\u001b[0m\n",
            "\n"
          ]
        },
        {
          "output_type": "stream",
          "name": "stderr",
          "text": [
            "Training:  51%|█████████▋         | 230055936/450000000 [28:51<26:45, 136968.53t/s, B/S=5.53, Loss=2.3508, LR=6.00e-04]"
          ]
        },
        {
          "output_type": "stream",
          "name": "stdout",
          "text": [
            "\n",
            "Valid Loss: 2.0549\n",
            "✅ Model Saved!\n"
          ]
        },
        {
          "output_type": "stream",
          "name": "stderr",
          "text": [
            "\rTraining:  51%|█████████▋         | 230055936/450000000 [28:53<26:45, 136968.53t/s, B/S=5.32, Loss=2.3508, LR=6.00e-04]"
          ]
        },
        {
          "output_type": "stream",
          "name": "stdout",
          "text": [
            "\u001b[32m\n",
            "In last\u001b[0m \u001b[36m, the time, a little boy called Jack, was out to see a bright, blue sky.\n",
            "\n",
            "Jack saw an orange cloud in the sky. He watched it go up and down, but he didn't know how much it worked. Then, he saw a big, white cloud in the sky.\n",
            "\n",
            "Jack was so excited he wanted to get closer to the cloud. So he went up to it and saw a giant cloud in the sky. He said, \"It's a cloud of lightning. It will go away soon. It's so cool!\"\n",
            "\n",
            "So Jack kept walking. He saw a huge\u001b[0m\n",
            "\n"
          ]
        },
        {
          "output_type": "stream",
          "name": "stderr",
          "text": [
            "Training:  53%|██████████▏        | 240058368/450000000 [30:12<28:35, 122408.18t/s, B/S=5.10, Loss=2.3382, LR=6.00e-04]"
          ]
        },
        {
          "output_type": "stream",
          "name": "stdout",
          "text": [
            "\n",
            "Valid Loss: 2.0454\n",
            "✅ Model Saved!\n"
          ]
        },
        {
          "output_type": "stream",
          "name": "stderr",
          "text": [
            "\rTraining:  53%|██████████▏        | 240058368/450000000 [30:25<28:35, 122408.18t/s, B/S=5.27, Loss=2.3381, LR=6.00e-04]"
          ]
        },
        {
          "output_type": "stream",
          "name": "stdout",
          "text": [
            "\u001b[32m\n",
            "In last\u001b[0m \u001b[36m, the sea, a little boy called Tom was out for his journey. He was feeling very nervous, but he didn't know how to go to the shore. He felt a little worried. He thought to himself, \"Where are our home?\".\n",
            "\n",
            "Suddenly, he heard a voice. \n",
            "\n",
            "\"I'm going to the shore right now!\" said Tom.\n",
            "\n",
            "Tom looked around but he couldn't find his family. He started to feel embarrassed. He wished he had listened to his friends. \n",
            "\n",
            "When Tom finally arrived, his mom said, \"I told you it was time for you to go home\u001b[0m\n",
            "\n"
          ]
        },
        {
          "output_type": "stream",
          "name": "stderr",
          "text": [
            "Training:  56%|██████████▌        | 250060800/450000000 [31:45<27:19, 121973.20t/s, B/S=5.03, Loss=2.3262, LR=6.00e-04]"
          ]
        },
        {
          "output_type": "stream",
          "name": "stdout",
          "text": [
            "\n",
            "Valid Loss: 2.0419\n",
            "✅ Model Saved!\n"
          ]
        },
        {
          "output_type": "stream",
          "name": "stderr",
          "text": [
            "\rTraining:  56%|██████████▌        | 250060800/450000000 [31:58<27:19, 121973.20t/s, B/S=5.31, Loss=2.3262, LR=6.00e-04]"
          ]
        },
        {
          "output_type": "stream",
          "name": "stdout",
          "text": [
            "\u001b[32m\n",
            "In last\u001b[0m \u001b[36m, there was a big, beautiful lake. Many ducks lived there and were so happy to play with it. One day, a big storm came and the water started to break. The fish was sad because the lake was broken.\n",
            "\n",
            "A big fish saw the poor fish and wanted to help too. They swam together and found a big place. The water was dry and dry. The fish and the fish swam to the pond. They found a big hole in the ground.\n",
            "\n",
            "Inside the hole was a big pit. The fish and fish had fun there. They splashed the water around and made a big splash.\u001b[0m\n",
            "\n"
          ]
        },
        {
          "output_type": "stream",
          "name": "stderr",
          "text": [
            "Training:  58%|██████████▉        | 260063232/450000000 [33:22<26:13, 120703.67t/s, B/S=4.82, Loss=2.3151, LR=6.00e-04]"
          ]
        },
        {
          "output_type": "stream",
          "name": "stdout",
          "text": [
            "\n",
            "Valid Loss: 2.0350\n",
            "✅ Model Saved!\n"
          ]
        },
        {
          "output_type": "stream",
          "name": "stderr",
          "text": [
            "\rTraining:  58%|██████████▉        | 260063232/450000000 [33:35<26:13, 120703.67t/s, B/S=5.07, Loss=2.3151, LR=6.00e-04]"
          ]
        },
        {
          "output_type": "stream",
          "name": "stdout",
          "text": [
            "\u001b[32m\n",
            "In last\u001b[0m \u001b[36m, there was a big, dark ship. The ship was so big that nobody could get out. But the ship was very big. It was very long, and the ship was scared.\n",
            "\n",
            "One day, a little girl found herself in the ship. She wanted to go on a big, strong boat. She put on her clothes and jumped into the water.\n",
            "\n",
            "The little girl started to jump on the ship and she was very happy. It was so big, just like she wanted to sail in. But it was too late to land. The ship was very heavy and heavy.\n",
            "\n",
            "The little girl\u001b[0m\n",
            "\n"
          ]
        },
        {
          "output_type": "stream",
          "name": "stderr",
          "text": [
            "Training:  60%|███████████▍       | 270065664/450000000 [34:50<22:15, 134720.29t/s, B/S=5.43, Loss=2.3046, LR=6.00e-04]"
          ]
        },
        {
          "output_type": "stream",
          "name": "stdout",
          "text": [
            "\n",
            "Valid Loss: 2.0339\n",
            "✅ Model Saved!\n"
          ]
        },
        {
          "output_type": "stream",
          "name": "stderr",
          "text": [
            "Training:  60%|███████████▍       | 270090240/450000000 [35:02<7:19:47, 6817.88t/s, B/S=5.64, Loss=2.3045, LR=6.00e-04]"
          ]
        },
        {
          "output_type": "stream",
          "name": "stdout",
          "text": [
            "\u001b[32m\n",
            "In last\u001b[0m \u001b[36m, there was a big, scary monster. The monster was very angry and the monster wanted to protect them. The monster wanted to help the children.\n",
            "\n",
            "The monster chased the kids to the park. He saw the monster. The people were scared. They ran to the monster. The monster took the boy away. The boy was never seen again. The monster was very happy.\n",
            "\n",
            "From that day on, the boy and the monster were best friends. They played together near the park every day and the boy never stopped the monster.Once upon a time, there was a small boy named Tim. Tim loved\u001b[0m\n",
            "\n"
          ]
        },
        {
          "output_type": "stream",
          "name": "stderr",
          "text": [
            "Training:  62%|███████████▊       | 280068096/450000000 [36:16<21:14, 133348.11t/s, B/S=5.45, Loss=2.2947, LR=6.00e-04]"
          ]
        },
        {
          "output_type": "stream",
          "name": "stdout",
          "text": [
            "\n",
            "Valid Loss: 2.0255\n",
            "✅ Model Saved!\n"
          ]
        },
        {
          "output_type": "stream",
          "name": "stderr",
          "text": [
            "\rTraining:  62%|███████████▊       | 280068096/450000000 [36:28<21:14, 133348.11t/s, B/S=5.40, Loss=2.2946, LR=6.00e-04]"
          ]
        },
        {
          "output_type": "stream",
          "name": "stdout",
          "text": [
            "\u001b[32m\n",
            "In last\u001b[0m \u001b[36m, the old man had a plan. He took out his favourite toy and took it home. \n",
            "\n",
            "When he came back to his house, the old man was very happy. He knew he would make his own toy.\n",
            "\n",
            "Every day the old man would take his toy and play with it. He would laugh and laugh with joy. \n",
            "\n",
            "But one day, the old man got very tired. He lay on a blanket and fell asleep. His mom would put a kiss on the blanket and make sure it was not so lazy.\n",
            "\n",
            "The old man was sad and he wished he could play with his toy\u001b[0m\n",
            "\n"
          ]
        },
        {
          "output_type": "stream",
          "name": "stderr",
          "text": [
            "Training:  64%|████████████▏      | 290070528/450000000 [37:42<20:10, 132131.21t/s, B/S=5.49, Loss=2.2853, LR=6.00e-04]"
          ]
        },
        {
          "output_type": "stream",
          "name": "stdout",
          "text": [
            "\n",
            "Valid Loss: 2.0249\n",
            "✅ Model Saved!\n"
          ]
        },
        {
          "output_type": "stream",
          "name": "stderr",
          "text": [
            "\rTraining:  64%|████████████▏      | 290070528/450000000 [37:54<20:10, 132131.21t/s, B/S=5.46, Loss=2.2852, LR=6.00e-04]"
          ]
        },
        {
          "output_type": "stream",
          "name": "stdout",
          "text": [
            "\u001b[32m\n",
            "In last\u001b[0m \u001b[36m, the big, blue car came down to the floor. The car was shiny and new. They were both very happy. They played with the big red car all day.\n",
            "\n",
            "As they played, they saw a big tree. There was a big tree. The red car wanted to climb a tree, but it was too high. The blue car tried to climb, but it was too big. The yellow car had an idea. The red car had a big idea.\n",
            "\n",
            "The blue car said, \"Let's go to the big tree. We can climb on this tree. We can climb the tree together\u001b[0m\n",
            "\n"
          ]
        },
        {
          "output_type": "stream",
          "name": "stderr",
          "text": [
            "Training:  67%|████████████▋      | 300072960/450000000 [39:10<18:30, 134985.07t/s, B/S=5.34, Loss=2.2765, LR=6.00e-04]"
          ]
        },
        {
          "output_type": "stream",
          "name": "stdout",
          "text": [
            "\n",
            "Valid Loss: 2.0229\n",
            "✅ Model Saved!\n"
          ]
        },
        {
          "output_type": "stream",
          "name": "stderr",
          "text": [
            "Training:  67%|████████████▋      | 300097536/450000000 [39:22<6:09:13, 6766.67t/s, B/S=5.55, Loss=2.2765, LR=6.00e-04]"
          ]
        },
        {
          "output_type": "stream",
          "name": "stdout",
          "text": [
            "\u001b[32m\n",
            "In last\u001b[0m \u001b[36m, there was a big, hairy bird named Tim. Tim was very naughty and always chased after a big fish. Every day, Tim would fly his big fish in the sky and get angry. But all he did was catch!\n",
            "\n",
            "One day, Tim saw a big, scary storm coming! The storm was very strong and it hurt. Tim felt scared and started to cry. His friends came and hugged him tight. But, the storm was too powerful and it hurt a lot. Tim and his friends went to hide, but they could not see the storm.\n",
            "\n",
            "A kind girl saw the storm and knew what\u001b[0m\n",
            "\n"
          ]
        },
        {
          "output_type": "stream",
          "name": "stderr",
          "text": [
            "Training:  69%|█████████████      | 310075392/450000000 [40:35<17:51, 130631.53t/s, B/S=5.51, Loss=2.2682, LR=6.00e-04]"
          ]
        },
        {
          "output_type": "stream",
          "name": "stdout",
          "text": [
            "\n",
            "Valid Loss: 2.0180\n",
            "✅ Model Saved!\n"
          ]
        },
        {
          "output_type": "stream",
          "name": "stderr",
          "text": [
            "\rTraining:  69%|█████████████      | 310075392/450000000 [40:47<17:51, 130631.53t/s, B/S=5.40, Loss=2.2682, LR=6.00e-04]"
          ]
        },
        {
          "output_type": "stream",
          "name": "stdout",
          "text": [
            "\u001b[32m\n",
            "In last\u001b[0m \u001b[36m, there was a big, tall tree. A little girl named Lily climbed onto the big tree and climbed up. Her mom saw her and said, \"Don't worry, Lily. Sometimes we get hungry. We need to be healthy!\"\n",
            "\n",
            "Lily was worried, but she knew her mom wasn't feeling well. She said, \"Mom, I don't want to eat the food. It hurts. Please don't worry.\"\n",
            "\n",
            "Her mom gave her a big hug and said, \"I'll get you a lot of food, but we can try to make some delicious cookies!\"\n",
            "\n",
            "Lily was happy and\u001b[0m\n",
            "\n"
          ]
        },
        {
          "output_type": "stream",
          "name": "stderr",
          "text": [
            "Training:  71%|█████████████▌     | 320077824/450000000 [42:12<16:27, 131594.99t/s, B/S=5.50, Loss=2.2602, LR=6.00e-04]"
          ]
        },
        {
          "output_type": "stream",
          "name": "stdout",
          "text": [
            "\n",
            "Valid Loss: 2.0132\n",
            "✅ Model Saved!\n"
          ]
        },
        {
          "output_type": "stream",
          "name": "stderr",
          "text": [
            "\rTraining:  71%|█████████████▌     | 320077824/450000000 [42:13<16:27, 131594.99t/s, B/S=5.43, Loss=2.2602, LR=6.00e-04]"
          ]
        },
        {
          "output_type": "stream",
          "name": "stdout",
          "text": [
            "\u001b[32m\n",
            "In last\u001b[0m \u001b[36m, there was a big, green bus. The bus was on the road to go down. But, one day, the bus was very tired and hungry. The bus met a boy named Tim and said, \"Hi, my new dog!\" The bus said, \"Hi, I am Tim! Can we play with you?\" The bus said, \"Yes, let's play!\" They played and had so much fun. The bus was not lonely anymore. They played together every day, and Tim was happy to have his new friend.One day, a little girl named Lucy went out to play. She saw a\u001b[0m\n",
            "\n"
          ]
        },
        {
          "output_type": "stream",
          "name": "stderr",
          "text": [
            "Training:  73%|█████████████▉     | 330080256/450000000 [43:27<14:30, 137800.04t/s, B/S=5.49, Loss=2.2526, LR=6.00e-04]"
          ]
        },
        {
          "output_type": "stream",
          "name": "stdout",
          "text": [
            "\n",
            "Valid Loss: 2.0102\n",
            "✅ Model Saved!\n"
          ]
        },
        {
          "output_type": "stream",
          "name": "stderr",
          "text": [
            "Training:  73%|█████████████▉     | 330104832/450000000 [43:39<4:57:14, 6722.66t/s, B/S=5.52, Loss=2.2526, LR=6.00e-04]"
          ]
        },
        {
          "output_type": "stream",
          "name": "stdout",
          "text": [
            "\u001b[32m\n",
            "In last\u001b[0m \u001b[36m, there was a big, green truck. It was very tall and fast. It went up and around and around it. It was so strong and safe!\n",
            "\n",
            "One day, the truck had an urge to go on its way. It decided to go on its way. It hopped and drove. The truck got on its way and they went fast.\n",
            "\n",
            "Suddenly, the truck saw something that made them stop. A big, brown dog was sitting on the truck. The dog barked and jumped on the truck. Everyone was so excited! The truck ran around the house with the driver.\n",
            "\n",
            "The truck was\u001b[0m\n",
            "\n"
          ]
        },
        {
          "output_type": "stream",
          "name": "stderr",
          "text": [
            "Training:  76%|██████████████▎    | 340082688/450000000 [44:53<13:14, 138324.72t/s, B/S=5.50, Loss=2.2453, LR=6.00e-04]"
          ]
        },
        {
          "output_type": "stream",
          "name": "stdout",
          "text": [
            "\n",
            "Valid Loss: 2.0073\n",
            "✅ Model Saved!\n"
          ]
        },
        {
          "output_type": "stream",
          "name": "stderr",
          "text": [
            "Training:  76%|██████████████▎    | 340107264/450000000 [45:04<4:31:13, 6752.69t/s, B/S=5.72, Loss=2.2453, LR=6.00e-04]"
          ]
        },
        {
          "output_type": "stream",
          "name": "stdout",
          "text": [
            "\u001b[32m\n",
            "In last\u001b[0m \u001b[36m, there was a boy named Joe. Joe was very brave. He wanted to explore something new. He found a shiny object in his pocket. It was very shiny and smooth. He thought it looked so pretty.\n",
            "\n",
            "But then his mom saw him. She was very angry. She said it was too dangerous. She said Joe's wish was gone.\n",
            "\n",
            "Joe was very sad. He was sad, but he still wanted to have fun. But then, he remembered. He knew he had been wrong.\n",
            "\n",
            "So he decided he should have the object. It was a mystery. He was so happy to\u001b[0m\n",
            "\n"
          ]
        },
        {
          "output_type": "stream",
          "name": "stderr",
          "text": [
            "Training:  78%|██████████████▊    | 350085120/450000000 [46:16<14:04, 118374.24t/s, B/S=5.66, Loss=2.2384, LR=6.00e-04]"
          ]
        },
        {
          "output_type": "stream",
          "name": "stdout",
          "text": [
            "\n",
            "Valid Loss: 2.0052\n",
            "✅ Model Saved!\n"
          ]
        },
        {
          "output_type": "stream",
          "name": "stderr",
          "text": [
            "\rTraining:  78%|██████████████▊    | 350085120/450000000 [46:28<14:04, 118374.24t/s, B/S=5.42, Loss=2.2383, LR=6.00e-04]"
          ]
        },
        {
          "output_type": "stream",
          "name": "stdout",
          "text": [
            "\u001b[32m\n",
            "In last\u001b[0m \u001b[36m, there was a big, bright balloon. It was so pretty that it filled the sky. Inside, it was the perfect balloon!\n",
            "\n",
            "A little girl was so excited. She loved the blue balloon so much. She put on her shoes and ran outside to the park.\n",
            "\n",
            "The sky was a beautiful blue sky. The balloon was so beautiful!\n",
            "\n",
            "The little girl saw all the colors. They were blue with pretty colors. She liked playing with her balloon.\n",
            "\n",
            "The balloon was a beautiful balloon. It was the best day ever. Everyone was happy with the balloon in the sky.Once upon\u001b[0m\n",
            "\n"
          ]
        },
        {
          "output_type": "stream",
          "name": "stderr",
          "text": [
            "Training:  80%|███████████████▏   | 360087552/450000000 [47:49<10:46, 138989.37t/s, B/S=5.06, Loss=2.2318, LR=6.00e-04]"
          ]
        },
        {
          "output_type": "stream",
          "name": "stdout",
          "text": [
            "\n",
            "Valid Loss: 2.0029\n",
            "✅ Model Saved!\n"
          ]
        },
        {
          "output_type": "stream",
          "name": "stderr",
          "text": [
            "Training:  80%|███████████████▏   | 360112128/450000000 [48:00<3:37:14, 6895.92t/s, B/S=5.73, Loss=2.2318, LR=6.00e-04]"
          ]
        },
        {
          "output_type": "stream",
          "name": "stdout",
          "text": [
            "\u001b[32m\n",
            "In last\u001b[0m \u001b[36m, there was a big, tall tree in the park. A little girl had never seen a tree. She was curious. She asked her mom if she could go near it. Her mom said, \"Not today, but don't you have to stay here and watch the birds.\"\n",
            "\n",
            "At the end of the day, the little girl was feeling very hungry. She asked her mom to bring her food, but she was too tired. Her mom looked around the park and looked over for some food. Finally, she found a big tree and took a big bite. The bird ate it all up and went back to\u001b[0m\n",
            "\n"
          ]
        },
        {
          "output_type": "stream",
          "name": "stderr",
          "text": [
            "Training:  82%|███████████████▋   | 370089984/450000000 [49:12<09:41, 137521.27t/s, B/S=5.63, Loss=2.2255, LR=6.00e-04]"
          ]
        },
        {
          "output_type": "stream",
          "name": "stdout",
          "text": [
            "\n",
            "Valid Loss: 1.9998\n",
            "✅ Model Saved!\n"
          ]
        },
        {
          "output_type": "stream",
          "name": "stderr",
          "text": [
            "\rTraining:  82%|███████████████▋   | 370089984/450000000 [49:24<09:41, 137521.27t/s, B/S=5.64, Loss=2.2255, LR=6.00e-04]"
          ]
        },
        {
          "output_type": "stream",
          "name": "stdout",
          "text": [
            "\u001b[32m\n",
            "In last\u001b[0m \u001b[36m, there was a big, hairy bear. He was so hairy that he loved to chew on other food. One day, he saw a little mouse, hopping around in the garden. He was very friendly. He asked the mouse if he could pet the mouse, and the mouse said yes. Then the bear and the mouse became friends. They played together and had lots of fun.\n",
            "\n",
            "One day, the bear said he wanted to play with the mouse. He said to the mouse, \"Come and eat the mouse, but I don't want to hurt you. We have to take care of it.\" The mouse\u001b[0m\n",
            "\n"
          ]
        },
        {
          "output_type": "stream",
          "name": "stderr",
          "text": [
            "Training:  84%|████████████████   | 380092416/450000000 [50:40<09:10, 127100.48t/s, B/S=5.32, Loss=2.2195, LR=6.00e-04]"
          ]
        },
        {
          "output_type": "stream",
          "name": "stdout",
          "text": [
            "\n",
            "Valid Loss: 2.0001\n"
          ]
        },
        {
          "output_type": "stream",
          "name": "stderr",
          "text": [
            "Training:  84%|████████████████   | 380092416/450000000 [50:52<09:10, 127100.48t/s, B/S=5.37, Loss=2.2195, LR=6.00e-04]"
          ]
        },
        {
          "output_type": "stream",
          "name": "stdout",
          "text": [
            "\u001b[32m\n",
            "In last\u001b[0m \u001b[36m, there was a big, heavy mountain. One day, the mountain was walking through the forest when a small girl walked up to it. She saw the mountain and she was amazed. She had never seen such a mountain before, so she decided to take a closer look.\n",
            "\n",
            "The girl looked up, and saw a big, wide river. She had never seen the mountain before, so she quickly climbed over to it. She was so excited. \n",
            "\n",
            "When she reached the top of the mountain she could see many different things. There was an island she had never seen before. But then, she saw a big\u001b[0m\n",
            "\n"
          ]
        },
        {
          "output_type": "stream",
          "name": "stderr",
          "text": [
            "Training:  87%|████████████████▍  | 390094848/450000000 [52:22<08:05, 123501.46t/s, B/S=5.10, Loss=2.2138, LR=6.00e-04]"
          ]
        },
        {
          "output_type": "stream",
          "name": "stdout",
          "text": [
            "\n",
            "Valid Loss: 1.9939\n",
            "✅ Model Saved!\n"
          ]
        },
        {
          "output_type": "stream",
          "name": "stderr",
          "text": [
            "\rTraining:  87%|████████████████▍  | 390094848/450000000 [52:25<08:05, 123501.46t/s, B/S=4.98, Loss=2.2138, LR=6.00e-04]"
          ]
        },
        {
          "output_type": "stream",
          "name": "stdout",
          "text": [
            "\u001b[32m\n",
            "In last\u001b[0m \u001b[36m, there was a big, fat rabbit named Bounce. Bounce was very hungry and wanted to eat something to eat. So, Bounce hopped to the river and saw a big, yummy apple. Bounce thought, \"I can eat it! But I don't want to eat it.\"\n",
            "\n",
            "B dads had an idea. He said, \"Tim, you should help me put the apple on the river. The water can hurt us.\" Bounce said, \"OK, let's eat some yummy food.\" So, Bounce and Sally shared the apple and ate some yummy fruits.\n",
            "\n",
            "Later, they went back to the river to\u001b[0m\n",
            "\n"
          ]
        },
        {
          "output_type": "stream",
          "name": "stderr",
          "text": [
            "Training:  89%|████████████████▉  | 400097280/450000000 [53:46<06:50, 121713.78t/s, B/S=5.02, Loss=2.2082, LR=6.00e-04]"
          ]
        },
        {
          "output_type": "stream",
          "name": "stdout",
          "text": [
            "\n",
            "Valid Loss: 1.9930\n",
            "✅ Model Saved!\n"
          ]
        },
        {
          "output_type": "stream",
          "name": "stderr",
          "text": [
            "\rTraining:  89%|████████████████▉  | 400097280/450000000 [53:58<06:50, 121713.78t/s, B/S=5.44, Loss=2.2082, LR=6.00e-04]"
          ]
        },
        {
          "output_type": "stream",
          "name": "stdout",
          "text": [
            "\u001b[32m\n",
            "In last\u001b[0m \u001b[36m, there was a big, old truck. It was very heavy. But when it came to take the truck, it was very strong. It drove over to a big tree. The truck was scared.\n",
            "\n",
            "A little girl saw the truck. She said, \"Hello, truck! Can we help you move the box?\" The truck man smiled. He said, \"Yes, please! Here's a toy for me to help you.\"\n",
            "\n",
            "The little girl was happy. She thanked the truck and started to wave to him. From then on, the truck and the little girl went on many more adventures together.\u001b[0m\n",
            "\n"
          ]
        },
        {
          "output_type": "stream",
          "name": "stderr",
          "text": [
            "Training:  91%|█████████████████▎ | 410099712/450000000 [55:19<05:21, 124076.06t/s, B/S=5.04, Loss=2.2029, LR=6.00e-04]"
          ]
        },
        {
          "output_type": "stream",
          "name": "stdout",
          "text": [
            "\n",
            "Valid Loss: 1.9908\n",
            "✅ Model Saved!\n"
          ]
        },
        {
          "output_type": "stream",
          "name": "stderr",
          "text": [
            "\rTraining:  91%|█████████████████▎ | 410099712/450000000 [55:31<05:21, 124076.06t/s, B/S=5.31, Loss=2.2029, LR=6.00e-04]"
          ]
        },
        {
          "output_type": "stream",
          "name": "stdout",
          "text": [
            "\u001b[32m\n",
            "In last\u001b[0m \u001b[36m, there was a big, shiny red ball. The ball was so small that it rolled down the road. The ball went up to the top and said, \"Hello, big ball! Can you see it?\"\n",
            "\n",
            "A little car named Spot saw the ball and said, \"Yes, Tim! It's easy to roll. Just take it!\" So, Spot followed the ball and it started to roll around in the air.\n",
            "\n",
            "As the red ball went, Spot played in the yard with his new ball. He was very happy. Tim learned that it's always important to listen to your mom and not touch\u001b[0m\n",
            "\n"
          ]
        },
        {
          "output_type": "stream",
          "name": "stderr",
          "text": [
            "Training:  93%|█████████████████▋ | 420102144/450000000 [57:02<03:52, 128588.87t/s, B/S=5.11, Loss=2.1977, LR=6.00e-04]"
          ]
        },
        {
          "output_type": "stream",
          "name": "stdout",
          "text": [
            "\n",
            "Valid Loss: 1.9884\n",
            "✅ Model Saved!\n"
          ]
        },
        {
          "output_type": "stream",
          "name": "stderr",
          "text": [
            "\rTraining:  93%|█████████████████▋ | 420102144/450000000 [57:03<03:52, 128588.87t/s, B/S=5.30, Loss=2.1977, LR=6.00e-04]"
          ]
        },
        {
          "output_type": "stream",
          "name": "stdout",
          "text": [
            "\u001b[32m\n",
            "In last\u001b[0m \u001b[36m, there was a big, friendly rabbit named Benny. Benny lived in a farm with his family. Benny was very small and loved to play with his friends. One day, Benny and his friends decided to have a picnic in the river. They all sat down and ate yummy food.\n",
            "\n",
            "Later that day, Benny's mom asked him to clean his room. Benny said, \"I don't want to stop playing.\" Benny said, \"But I can do it!\" He grabbed a cloth and started cleaning.\n",
            "\n",
            "His mom said, \"Don't worry, Benny. Let's put the cloth in the sink and\u001b[0m\n",
            "\n"
          ]
        },
        {
          "output_type": "stream",
          "name": "stderr",
          "text": [
            "Training:  96%|██████████████████▏| 430104576/450000000 [58:32<02:37, 126462.57t/s, B/S=5.15, Loss=2.1928, LR=6.00e-04]"
          ]
        },
        {
          "output_type": "stream",
          "name": "stdout",
          "text": [
            "\n",
            "Valid Loss: 1.9899\n"
          ]
        },
        {
          "output_type": "stream",
          "name": "stderr",
          "text": [
            "\rTraining:  96%|██████████████████▏| 430104576/450000000 [58:34<02:37, 126462.57t/s, B/S=5.40, Loss=2.1927, LR=6.00e-04]"
          ]
        },
        {
          "output_type": "stream",
          "name": "stdout",
          "text": [
            "\u001b[32m\n",
            "In last\u001b[0m \u001b[36m, there was a big, fat cat named Jerry. Jerry was very brave and loved to play all day. One day, Jerry found a big, round box in the backyard. He wanted to put it on top of the box, but he could not. Jerry tried to push the box, but he just couldn't.\n",
            "\n",
            "He thought for a while and then he had an idea. He ran to the box and grabbed a big, red ball and a big ball. He played with the ball and had a great time. Jerry learned that being brave and not just because the ball made him feel safe.Once\u001b[0m\n",
            "\n"
          ]
        },
        {
          "output_type": "stream",
          "name": "stderr",
          "text": [
            "Training:  98%|██████████████████▌| 440107008/450000000 [59:54<01:20, 122526.57t/s, B/S=5.12, Loss=2.1880, LR=6.00e-04]"
          ]
        },
        {
          "output_type": "stream",
          "name": "stdout",
          "text": [
            "\n",
            "Valid Loss: 1.9873\n",
            "✅ Model Saved!\n"
          ]
        },
        {
          "output_type": "stream",
          "name": "stderr",
          "text": [
            "\rTraining:  98%|████████████████▋| 440107008/450000000 [1:00:06<01:20, 122526.57t/s, B/S=4.93, Loss=2.1880, LR=6.00e-04]"
          ]
        },
        {
          "output_type": "stream",
          "name": "stdout",
          "text": [
            "\u001b[32m\n",
            "In last\u001b[0m \u001b[36m, there was a big, shiny car. It was very expensive. It was a gift from their dad, who gave it to their friend. They put their toys in the car and drove to their dad and dad's house.\n",
            "\n",
            "When they arrived at the store, they saw many things and had a lot of fun. They saw books, toys, and puzzles. They saw toys, clothes, cars, blocks and puzzles. They liked the cars best.\n",
            "\n",
            "\"What are they in the store, dad?\" Tim asked.\n",
            "\n",
            "\"They are for a new car, kids. It is a gift from\u001b[0m\n",
            "\n"
          ]
        },
        {
          "output_type": "stream",
          "name": "stderr",
          "text": [
            "Training: 450011136t [1:01:26, 124037.36t/s, B/S=5.05, Loss=2.1835, LR=6.00e-04]                                       "
          ]
        },
        {
          "output_type": "stream",
          "name": "stdout",
          "text": [
            "\n",
            "Valid Loss: 1.9840\n",
            "✅ Model Saved!\n"
          ]
        },
        {
          "output_type": "stream",
          "name": "stderr",
          "text": [
            "\rTraining: 450011136t [1:01:38, 121666.21t/s, B/S=5.05, Loss=2.1835, LR=6.00e-04]"
          ]
        },
        {
          "output_type": "stream",
          "name": "stdout",
          "text": [
            "\u001b[32m\n",
            "In last\u001b[0m \u001b[36m, there was a big, round tree. It was so big that it almost touched the sky. It looked like the tree was going to look so high up in the sky.\n",
            "\n",
            "The little girl looked around and saw something else, like a big, colorful bird. She wanted to see where the bird was going. She started to get closer to the tree. As she reached the bottom of the tree, she could feel the wind blowing her hair on her head.\n",
            "\n",
            "The little girl looked up at the tree and smiled. She knew that she could do it, so she kept walking until she reached the top\u001b[0m\n",
            "\n"
          ]
        },
        {
          "output_type": "stream",
          "name": "stderr",
          "text": [
            "\n"
          ]
        },
        {
          "output_type": "display_data",
          "data": {
            "text/plain": [
              "<Figure size 1000x500 with 1 Axes>"
            ],
            "image/png": "[encoded data removed]"
          },
          "metadata": {}
        }
      ]
    },
    {
      "cell_type": "code",
      "execution_count": null,
      "metadata": {
        "id": "bcwx3XpZOXiw",
        "colab": {
          "base_uri": "https://localhost:8080/",
          "height": 17
        },
        "outputId": "866f9806-6d9a-4cfd-a35e-0cce298950ca"
      },
      "outputs": [
        {
          "output_type": "display_data",
          "data": {
            "text/plain": [
              "<IPython.core.display.HTML object>"
            ],
            "text/html": [
              "<style>\n",
              "    body {\n",
              "      font-size: 24px;\n",
              "    }\n",
              "  "
            ]
          },
          "metadata": {}
        }
      ],
      "source": [
        "torch.cuda.empty_cache()"
      ]
    },
    {
      "cell_type": "markdown",
      "metadata": {
        "id": "xOVMvcCB7wjV"
      },
      "source": [
        "# 🔴 **Generate**"
      ]
    },
    {
      "cell_type": "code",
      "source": [
        "import textwrap\n",
        "\n",
        "def print_colored_wrapped(prompt, generated, width=100):\n",
        "    \"\"\"\n",
        "    Print prompt and generated text with color and line wrapping, preserving paragraph breaks (\\n\\n).\n",
        "    \"\"\"\n",
        "    full_text = prompt + generated\n",
        "    paragraphs = full_text.split('\\n\\n')  # Split by paragraph\n",
        "\n",
        "    first = True\n",
        "    for para in paragraphs:\n",
        "        # Apply line wrapping per paragraph\n",
        "        lines = textwrap.wrap(para, width=width)\n",
        "\n",
        "        for line in lines:\n",
        "            if first:\n",
        "                # Print prompt in green and the rest in cyan\n",
        "                prompt_part = line[:len(prompt)]\n",
        "                gen_part = line[len(prompt):]\n",
        "                print(colored(prompt_part, \"green\") + colored(gen_part, \"cyan\"))\n",
        "                prompt = ''  # only on first line\n",
        "                first = False\n",
        "            else:\n",
        "                print(colored(line, \"cyan\"))\n",
        "\n",
        "        print()  # extra newline between paragraphs\n"
      ],
      "metadata": {
        "colab": {
          "base_uri": "https://localhost:8080/",
          "height": 17
        },
        "id": "bQ_TnnfC-k00",
        "outputId": "c1cb5cf1-373a-4197-b47b-e144d65fd5b4"
      },
      "execution_count": null,
      "outputs": [
        {
          "output_type": "display_data",
          "data": {
            "text/plain": [
              "<IPython.core.display.HTML object>"
            ],
            "text/html": [
              "<style>\n",
              "    body {\n",
              "      font-size: 24px;\n",
              "    }\n",
              "  "
            ]
          },
          "metadata": {}
        }
      ]
    },
    {
      "cell_type": "code",
      "source": [
        "prompts = [\n",
        "    'In last night',\n",
        "    'Once upon',\n",
        "    'Once upon a time',\n",
        "    'One day, a little boy named TimTommy was a smart 3 year old, much smarter']"
      ],
      "metadata": {
        "colab": {
          "base_uri": "https://localhost:8080/",
          "height": 17
        },
        "id": "Nn-rU3iy9d9k",
        "outputId": "af84153d-7abc-4848-93a6-3d1e37ab72dd"
      },
      "execution_count": null,
      "outputs": [
        {
          "output_type": "display_data",
          "data": {
            "text/plain": [
              "<IPython.core.display.HTML object>"
            ],
            "text/html": [
              "<style>\n",
              "    body {\n",
              "      font-size: 24px;\n",
              "    }\n",
              "  "
            ]
          },
          "metadata": {}
        }
      ]
    },
    {
      "cell_type": "code",
      "source": [
        "for prompt in prompts:\n",
        "    # Generate n_rep samples\n",
        "    gen_text = generate(model, tokenizer, prompt, n_rep=3, max_seq_len=128, T=0.9, top_k=10)\n",
        "\n",
        "    # Print\n",
        "    print(100*\"=\")\n",
        "    for gtxt in gen_text:\n",
        "        prompt_len = len(prompt)\n",
        "        generated = gtxt[prompt_len:]\n",
        "        print_colored_wrapped(prompt, generated, width=100)\n",
        "        print(100*\".\")"
      ],
      "metadata": {
        "colab": {
          "base_uri": "https://localhost:8080/",
          "height": 1000
        },
        "id": "4OLk4HdN7zum",
        "outputId": "7e7f458d-5c5e-47a5-80de-140a2be9bce3"
      },
      "execution_count": null,
      "outputs": [
        {
          "output_type": "display_data",
          "data": {
            "text/plain": [
              "<IPython.core.display.HTML object>"
            ],
            "text/html": [
              "<style>\n",
              "    body {\n",
              "      font-size: 24px;\n",
              "    }\n",
              "  "
            ]
          },
          "metadata": {}
        },
        {
          "output_type": "stream",
          "name": "stdout",
          "text": [
            "====================================================================================================\n",
            "\u001b[32mIn last night\u001b[0m\u001b[36m, there was a big, bright orange bird. The bird was flying around a tree with a long\u001b[0m\n",
            "\u001b[36mneck and a red tail. It was a happy bird!\u001b[0m\n",
            "\n",
            "\u001b[36mThe bird sang a happy song about its nest. It made a soft sound with its beak. It sang a happy song.\u001b[0m\n",
            "\u001b[36mA little mouse heard the bird singing. The bird flew around the tree and played with the bird. The\u001b[0m\n",
            "\u001b[36mbird sang and the bird felt happy.\u001b[0m\n",
            "\n",
            "\u001b[36mThe sun and the bird sang for the sun. The sun shone down and the sky was very bright. The bird sang\u001b[0m\n",
            "\u001b[36mits new song. Then, it flew away,\u001b[0m\n",
            "\n",
            "....................................................................................................\n",
            "\u001b[32mIn last night\u001b[0m\u001b[36m, Timmy and his family went on an adventure. They went to the park and Timmy saw a big\u001b[0m\n",
            "\u001b[36mtree. \"I want to climb it, Mommy,\" he said. \"It looks scary,\" his mom said.\u001b[0m\n",
            "\n",
            "\u001b[36mTimmy's mom asked him how the tree was. \"That's a very big branch that helps us climb. Do you want\u001b[0m\n",
            "\u001b[36mto try it?\" Timmy asked. His mom thought it was very pretty, but Timmy didn't listen.\u001b[0m\n",
            "\n",
            "\u001b[36mThe next day, Timmy took off his sunglasses. \"I want to go to the tree,\" he said. His mom smiled and\u001b[0m\n",
            "\u001b[36msaid, \"Okay,\u001b[0m\n",
            "\n",
            "....................................................................................................\n",
            "\u001b[32mIn last night\u001b[0m\u001b[36m, there was a small family with a very happy family. They were three years old and very\u001b[0m\n",
            "\u001b[36mhappy.\u001b[0m\n",
            "\n",
            "\u001b[36mOne day, the family was walking in the park and saw a big, red ball. They were so excited and wanted\u001b[0m\n",
            "\u001b[36mto try it. They asked a question, \"Can we make a ball?\"\u001b[0m\n",
            "\n",
            "\u001b[36mBut their mom said, \"No, you must be very careful and don't break things that are not yours.\"\u001b[0m\n",
            "\n",
            "\u001b[36mThe little one was sad but then the mom had an idea. She said, \"You can use this stick, but first\u001b[0m\n",
            "\u001b[36myou need to put the ball on the grass\u001b[0m\n",
            "\n",
            "....................................................................................................\n",
            "====================================================================================================\n",
            "\u001b[32mOnce upon\u001b[0m\u001b[36m a time, there were two friends, Jack and Jill. Jack had a toy car and Jill could have it.\u001b[0m\n",
            "\u001b[36mOne day, they decided to go on an adventure. They went on a journey to a special place.\u001b[0m\n",
            "\n",
            "\u001b[36m\"This is my toy car,\" Jack said. \"It is special.\"\u001b[0m\n",
            "\n",
            "\u001b[36m\"Yes, it is,\" Jill replied. \"We're going to make something for the surprise. We have some fun!\"\u001b[0m\n",
            "\n",
            "\u001b[36mJack looked around for a new toy car, but he could not find it. He asked Jill to give it back.\u001b[0m\n",
            "\n",
            "\u001b[36m\"No, it's mine,\" Jack said\u001b[0m\n",
            "\n",
            "....................................................................................................\n",
            "\u001b[32mOnce upon\u001b[0m\u001b[36m a time, there was a happy family who lived in a small town. Everyone wanted to help them,\u001b[0m\n",
            "\u001b[36mbut no one seemed to know how to make them look.\u001b[0m\n",
            "\n",
            "\u001b[36mOne day, the family decided to go to the market. The dad looked very far away and he looked for lots\u001b[0m\n",
            "\u001b[36mof people to talk to. He asked the kids what they were doing. But they didn't know what to say.\u001b[0m\n",
            "\n",
            "\u001b[36mThe dad told the children a plan, \"We will help the market every day. You are so smart!\" He gave\u001b[0m\n",
            "\u001b[36mthem some apples and they both went home.\u001b[0m\n",
            "\n",
            "\u001b[36mThe family was very happy to\u001b[0m\n",
            "\n",
            "....................................................................................................\n",
            "\u001b[32mOnce upon\u001b[0m\u001b[36m a time there was a little girl named Jane. Jane loved to explore around her world. She\u001b[0m\n",
            "\u001b[36mloved to explore and learn new things.\u001b[0m\n",
            "\n",
            "\u001b[36mOne day, Jane found a big box in her backyard. She was so excited to open it and see what was\u001b[0m\n",
            "\u001b[36minside. Inside, she saw a funny looking toy. She was delighted, but then suddenly a funny voice said\u001b[0m\n",
            "\u001b[36m\"What's this? Is that a funny surprise?\"\u001b[0m\n",
            "\n",
            "\u001b[36mJane was curious and asked \"What is that?\"\u001b[0m\n",
            "\n",
            "\u001b[36mA friendly voice answered, \"I don't know, it's just a surprise. Do you think it's your favorite? It\u001b[0m\n",
            "\n",
            "....................................................................................................\n",
            "====================================================================================================\n",
            "\u001b[32mOnce upon a time\u001b[0m\u001b[36m, there was a big, hairy bear. He was very brave and brave. One day, he saw a little\u001b[0m\n",
            "\u001b[36mbird. The bear was sad because he had no friends to play with. The bird decided to go for a walk\u001b[0m\n",
            "\u001b[36mtogether on the forest.\u001b[0m\n",
            "\n",
            "\u001b[36mThe bear and the bird walked slowly. As they walked, the bear saw a big, red bird. The bird was\u001b[0m\n",
            "\u001b[36msinging a sweet song. The bear was happy and started to sing. Suddenly, the bird stopped sing and\u001b[0m\n",
            "\u001b[36mlooked at the bear. The bear thought the bird was sad because he lost his song.\u001b[0m\n",
            "\n",
            "\u001b[36mThen, the bear had\u001b[0m\n",
            "\n",
            "....................................................................................................\n",
            "\u001b[32mOnce upon a time\u001b[0m\u001b[36m there was a little bird. His name was Bob. Bob lived deep in the sky and loved to\u001b[0m\n",
            "\u001b[36mexplore.\u001b[0m\n",
            "\n",
            "\u001b[36mOne day Bob decided to go for a walk in the woods. He was so excited! He hopped across the woods,\u001b[0m\n",
            "\u001b[36mlooking at all the trees and birds. Then, he noticed something.\u001b[0m\n",
            "\n",
            "\u001b[36m\"What is it?\" he thought.\u001b[0m\n",
            "\n",
            "\u001b[36mJust then, a voice from behind the sky replied, \"It's a bird. Would you like to be your friend?\"\u001b[0m\n",
            "\n",
            "\u001b[36mBob hopped up and down. The bird said, \"Yes!\"\u001b[0m\n",
            "\n",
            "\u001b[36mBob was so excited that he began\u001b[0m\n",
            "\n",
            "....................................................................................................\n",
            "\u001b[32mOnce upon a time\u001b[0m\u001b[36m there was a little bird. The bird liked to fly and fly in the sky. One day, the\u001b[0m\n",
            "\u001b[36mbird saw a big, scary cloud in the sky. The bird was scared and flew away.\u001b[0m\n",
            "\n",
            "\u001b[36mSuddenly, the bird flew to a big tree. It saw a little bird who was sitting on a branch. The tree\u001b[0m\n",
            "\u001b[36msaw the little bird and thought it would be friendly. The little bird flew down to the tree and\u001b[0m\n",
            "\u001b[36mlanded on the small cloud. The bird was very happy and thanked the little bird.\u001b[0m\n",
            "\n",
            "\u001b[36mAfter the storm, the big bird was happy and flew down the tree. The little bird\u001b[0m\n",
            "\n",
            "....................................................................................................\n",
            "====================================================================================================\n",
            "\u001b[32mOne day, a little boy named TimTommy was a smart 3 year old, much smarter\u001b[0m\u001b[36m. He went to a big room\u001b[0m\n",
            "\u001b[36mwith a big desk. Tim saw a new desk. He had a lot of new clothes. He wanted to wear them, but he was\u001b[0m\n",
            "\u001b[36mtoo small.\u001b[0m\n",
            "\n",
            "\u001b[36mSam said, \"I want to keep my clothes.\" Tim said, \"No, I want a new outfit.\" Sam said, \"No, it's too\u001b[0m\n",
            "\u001b[36mcheap.\"\u001b[0m\n",
            "\n",
            "\u001b[36mTim felt sad for his new dress. He thought, \"I can share your clothes with my friend. Can we be\u001b[0m\n",
            "\u001b[36mfriends again?\" Tim felt bad for the teacher\u001b[0m\n",
            "\n",
            "....................................................................................................\n",
            "\u001b[32mOne day, a little boy named TimTommy was a smart 3 year old, much smarter\u001b[0m\u001b[36m than he had. One day,\u001b[0m\n",
            "\u001b[36mTimmy went to the park with his mom. His mom told him to keep an eye on his eye, as he continued\u001b[0m\n",
            "\u001b[36mwith a watch.\u001b[0m\n",
            "\n",
            "\u001b[36mBut then, Timmy's mom told him that it was very dangerous outside, and that he had to take a closer\u001b[0m\n",
            "\u001b[36mlook and watch over the watch. She told him that the watch belonged to a big dog that would come\u001b[0m\n",
            "\u001b[36mback down.\u001b[0m\n",
            "\n",
            "\u001b[36mTimmy was scared and confused because he thought it would make him hurt. He tried to explain that he\u001b[0m\n",
            "\u001b[36mhad never seen\u001b[0m\n",
            "\n",
            "....................................................................................................\n",
            "\u001b[32mOne day, a little boy named TimTommy was a smart 3 year old, much smarter\u001b[0m\u001b[36m and he was very\u001b[0m\n",
            "\u001b[36mintelligent. He loved to learn new words and he could do many things with his heart.\u001b[0m\n",
            "\n",
            "\u001b[36mOne day, he decided to teach his friends how to play a game. He showed them a very special game, and\u001b[0m\n",
            "\u001b[36mthe game was very competitive. All the children laughed and smiled.\u001b[0m\n",
            "\n",
            "\u001b[36mThey all laughed together. They wanted to win the game so they started to run. They ran faster,\u001b[0m\n",
            "\u001b[36mfaster than ever.\u001b[0m\n",
            "\n",
            "\u001b[36mSoon, the game was very loud. All of the friends had to be the best, but\u001b[0m\n",
            "\n",
            "....................................................................................................\n"
          ]
        }
      ]
    }
  ]
}